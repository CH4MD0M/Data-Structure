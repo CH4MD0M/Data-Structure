{
 "cells": [
  {
   "cell_type": "markdown",
   "id": "45fa09fb",
   "metadata": {},
   "source": [
    "# 힙(Heap)\n",
    "데이터에서 최댓값, 최솟값을 빠르게 찾기 위해 고안된 완전 이진 트리(Complete Binary Tree)이다.\n",
    "\n",
    "### 완전 이진 트리(Complete Binary Tree)\n",
    "노드를 삽입할 때 최하단부 왼쪽 노드부터 차례대로 삽입하는 트리이다.\n",
    "\n",
    "### 힙을 사용하는 이유\n",
    "배열에서 최댓값, 최솟값을 찾기 위해서는 $ O(n) $ 이 걸리지만, 힙에서 최댓값, 최솟값을 찾을 때는 $ O(log n) $ 이 걸린다.</br>\n",
    "우선순위 큐와 같이 최댓값 또는 최솟값을 빠르게 찾아야 하는 자료구조 및 알고리즘 구현에 활용된다.\n"
   ]
  },
  {
   "cell_type": "markdown",
   "id": "dde4dd11",
   "metadata": {},
   "source": [
    "---"
   ]
  },
  {
   "cell_type": "markdown",
   "id": "7c1bbb6b",
   "metadata": {},
   "source": [
    "# 힙(Heap) 구조\n",
    "힙은 최댓값을 구하기 위한 구조(최대 힙, Max Heap)와, 최솟값을 구하기 위한 구조(최소 힙,  Min Heap)로 분류할 수 있다.</br>\n",
    "\n",
    "\n",
    "힙은 다음과 같은 조건을 갖는 자료구조이다.\n",
    "1. 각 노드의 값은 해당 노드의 자식 노드가 가진 값보다 크거나 같다.(Max Heap의 경우)\n",
    "2. 각 노드의 값은 해당 노드의 자식 노드가 가진 값보다 작거나 같다.(Min Heap의 경우)\n",
    "3.  완전 이진 트리 형태를 가진다.\n",
    "\n",
    "</br>\n",
    "\n",
    "### 힙과 이진 탐색 트리의 공통점과 차이점\n",
    "\n",
    "**공통점**\n",
    "- 모두 이진 트리이다.\n",
    "\n",
    "**차이점**\n",
    "- 힙은 각 노드의 값이 자식 노드보다 크거나 같다.(Max Heap의 경우)\n",
    "- 이진 탐색 트리는 왼쪽 자식 노드의 값이 가장 작고, 그 다음 부모 노드, 그 다음 오른쪽 자식 노드 값이 가장 크다.\n",
    "- 힙은 이진 탐색 트리의 조건인 자식 노드에서 작은 값은 왼쪽, 큰 값은 오른쪽이라는 조건은 없다.\n",
    "\n",
    "**이진 탐색 트리는 탐색을 위한 구조, 힙은 최댓/최솟값 검색을 위한 구조 중 하나로 이해하면 된다.**\n",
    "\n",
    "</br>\n",
    "\n",
    "<img src=\"https://www.fun-coding.org/00_Images/completebinarytree_bst.png\" width=\"600\" /></br>\n",
    "(출처:fun-coding,https://www.fun-coding.org/Chapter11-heap.html)"
   ]
  },
  {
   "cell_type": "markdown",
   "id": "6bdd2c41",
   "metadata": {},
   "source": [
    "---"
   ]
  },
  {
   "cell_type": "markdown",
   "id": "18d649a8",
   "metadata": {},
   "source": [
    "# 힙(Heap) 동작"
   ]
  },
  {
   "cell_type": "markdown",
   "id": "1da29791",
   "metadata": {},
   "source": [
    "### 힙에 데이터 삽입하기\n",
    "힙은 완전 이진 트리이므로, 삽입할 노드는 기본적으로 최하단부 왼쪽 노드부터 채워지는 형태로 삽입.\n",
    "\n",
    "</br>\n",
    "\n",
    "### 힙에 데이터 삽입하기 - 삽입할 데이터가 힙의 데이터보다 클 경우(Max Heap)\n",
    "먼저 삽입된 데이터는 완전 이진 트리 구조에 맞추어, 최하단부 왼쪽 노드부터 채워진다.</br>\n",
    "채워진 노드 위치에서 부모 노드보다 값이 클 경우, 보무 노드와 위치를 바꾸는 작업을 반복한다.\n",
    "\n",
    "\n",
    "<img src=\"https://www.fun-coding.org/00_Images/heap_insert.png\" width=\"600\"></br>\n",
    "(출처:fun-coding,https://www.fun-coding.org/Chapter11-heap.html)\n",
    "\n",
    "</br>\n",
    "\n",
    "### 힙의 데이터 삭제하기(Max Heap)\n",
    "보통 root 노드를 삭제하는 것이 일반적이다.</br>\n",
    "1. root 노드 삭제시, 가장 최하단부 왼쪽에 위치한 노드(일반적으로 가장 마지막에 추가한 노드)를 root 노드로 이동한다.</br>\n",
    "2. root 노드 값이 child node보다 작을 경우, root 노드의 child node 중 가장 큰 값을 가진 노드와 root 노드 위치를 바꾸는 작업을 반복한다.\n",
    "\n",
    "\n",
    "<img src=\"https://www.fun-coding.org/00_Images/heap_remove.png\" width=\"600\"></br>\n",
    "(출처:fun-coding,https://www.fun-coding.org/Chapter11-heap.html)\n"
   ]
  },
  {
   "cell_type": "markdown",
   "id": "5fff28e4",
   "metadata": {},
   "source": [
    "---"
   ]
  },
  {
   "cell_type": "markdown",
   "id": "1b8ec6b3",
   "metadata": {},
   "source": [
    "# 힙(Heap) 구현 "
   ]
  },
  {
   "cell_type": "markdown",
   "id": "16eab7ed",
   "metadata": {},
   "source": [
    "일반적으로 힙 구현시 **배열 자료구조**를 활용한다.</br>\n",
    "배열의 인덱스는 0부터 시작하지만, 힙 구현의 편의를 위해 root 노드의 인덱스 번호를 1로 지정한다.\n",
    "- **부노 노드의 인덱스 번호** = 자식 노드의 인덱스 번호 // 2\n",
    "- **왼쪽 노드의 인덱스 번호** = 부모 노드의 인덱스 번호 * 2\n",
    "-  **오른쪽 노드의 인덱스 번호** = 부모 노드의 인덱스 번호 * 2 + 1"
   ]
  },
  {
   "cell_type": "markdown",
   "id": "5f0ac427",
   "metadata": {},
   "source": [
    "### 힙 클래스 구현"
   ]
  },
  {
   "cell_type": "code",
   "execution_count": 1,
   "id": "7accde06",
   "metadata": {},
   "outputs": [],
   "source": [
    "class Heap:\n",
    "    def __init__(self,data):\n",
    "        self.heap_array=list()\n",
    "        self.heap_array.append(None)\n",
    "        self.heap_array.append(data)"
   ]
  },
  {
   "cell_type": "code",
   "execution_count": 2,
   "id": "607fe83e",
   "metadata": {},
   "outputs": [
    {
     "data": {
      "text/plain": [
       "[None, 1]"
      ]
     },
     "execution_count": 2,
     "metadata": {},
     "output_type": "execute_result"
    }
   ],
   "source": [
    "heap=Heap(1)\n",
    "heap.heap_array"
   ]
  },
  {
   "cell_type": "markdown",
   "id": "706587f1",
   "metadata": {},
   "source": [
    "### 힙 - 데이터 삽입"
   ]
  },
  {
   "cell_type": "code",
   "execution_count": 3,
   "id": "ad9b9fbf",
   "metadata": {},
   "outputs": [],
   "source": [
    "class Heap:\n",
    "    def __init__(self,data):\n",
    "        self.heap_array=list()\n",
    "        self.heap_array.append(None)\n",
    "        self.heap_array.append(data)\n",
    "        \n",
    "    def insert(self,data):\n",
    "        if len(self.heap_array)==0:\n",
    "            self.heap_array.append(None)\n",
    "            self.heap_array.append(data)\n",
    "            return True\n",
    "        \n",
    "        self.heap_array.append(data)\n",
    "        return True"
   ]
  },
  {
   "cell_type": "code",
   "execution_count": 5,
   "id": "cb5f3308",
   "metadata": {},
   "outputs": [
    {
     "data": {
      "text/plain": [
       "[None, 15, 10, 8, 5, 4, 20]"
      ]
     },
     "execution_count": 5,
     "metadata": {},
     "output_type": "execute_result"
    }
   ],
   "source": [
    "heap=Heap(15)\n",
    "heap.insert(10)\n",
    "heap.insert(8)\n",
    "heap.insert(5)\n",
    "heap.insert(4)\n",
    "heap.insert(20)\n",
    "heap.heap_array"
   ]
  },
  {
   "cell_type": "markdown",
   "id": "7decfa24",
   "metadata": {},
   "source": [
    "### 힙 - 데이터 삽입(Max Heap \b예)\n",
    "- 삽입한 노드가 부모 노드의 값보다 클 경우, 부모 노드와 삽입한 노드의 위치를 바꾼다.\n",
    "- 삽입한 노드가 루트 노드가 되거나, 부모 노드보다 값이 작거나 같을 경우까지 반복한다.\n",
    "\n",
    "<img src=\"https://www.fun-coding.org/00_Images/heap_insert.png\" width=\"600\"></br>\n",
    "(출처:fun-coding,https://www.fun-coding.org/Chapter11-heap.html)"
   ]
  },
  {
   "cell_type": "code",
   "execution_count": 6,
   "id": "b4494dc0",
   "metadata": {},
   "outputs": [],
   "source": [
    "class Heap:\n",
    "    def __init__(self,data):\n",
    "        self.heap_array=list()\n",
    "        self.heap_array.append(None)\n",
    "        self.heap_array.append(data)\n",
    "\n",
    "    def move_up(self,inserted_idx):\n",
    "        if inserted_idx<=1:\n",
    "            return False\n",
    "        \n",
    "        parent_idx=inserted_idx//2\n",
    "        if self.heap_array[inserted_idx]>self.heap_array[parent_idx]:\n",
    "            return True\n",
    "        else:\n",
    "            return False\n",
    "    \n",
    "    def insert(self,data):\n",
    "        if len(self.heap_array) == 0:\n",
    "            self.heap_array.append(None)\n",
    "            self.heap_array.append(data)\n",
    "            return True\n",
    "        \n",
    "        self.heap_array.append(data)\n",
    "        inserted_idx=len(self.heap_array)-1\n",
    "        \n",
    "        while self.move_up(inserted_idx):\n",
    "            parent_idx=inserted_idx//2\n",
    "            self.heap_array[inserted_idx],self.heap_array[parent_idx]=self.heap_array[parent_idx],self.heap_array[inserted_idx]\n",
    "            inserted_idx=parent_idx\n",
    "            \n",
    "        return True\n",
    "            "
   ]
  },
  {
   "cell_type": "code",
   "execution_count": 7,
   "id": "9f70dba9",
   "metadata": {},
   "outputs": [
    {
     "data": {
      "text/plain": [
       "[None, 20, 10, 15, 5, 4, 8]"
      ]
     },
     "execution_count": 7,
     "metadata": {},
     "output_type": "execute_result"
    }
   ],
   "source": [
    "heap=Heap(15)\n",
    "heap.insert(10)\n",
    "heap.insert(8)\n",
    "heap.insert(5)\n",
    "heap.insert(4)\n",
    "heap.insert(20)\n",
    "heap.heap_array"
   ]
  },
  {
   "cell_type": "markdown",
   "id": "aea4aef0",
   "metadata": {},
   "source": [
    "### 힙 - 데이터 삭제(Max Heap 예)"
   ]
  },
  {
   "cell_type": "code",
   "execution_count": 5,
   "id": "9ea1a7cb",
   "metadata": {},
   "outputs": [],
   "source": [
    "class Heap:\n",
    "    def __init__(self,data):\n",
    "        self.heap_array=list()\n",
    "        self.heap_array.append(None)\n",
    "        self.heap_array.append(data)\n",
    "        \n",
    "    def pop(self):\n",
    "        if len(self.heap_array)<=1:\n",
    "            return None\n",
    "    \n",
    "        returned_data=self.heap_array[1]\n",
    "        return returned_data\n",
    "        "
   ]
  },
  {
   "cell_type": "markdown",
   "id": "425b665d",
   "metadata": {},
   "source": [
    "### 힙 - 데이터 삭제(Max Heap 예)\n",
    "- root 노드 삭제 시, 가장 최하단부 왼쪽에 위치한 노드(일반적으로 가장 마지막에 추가한 노드)를 root 노드로 이동한다.\n",
    "- root 노드의 값이 child node보다 작을 경우, child node 중에서 가장 큰 값을 가진 노드를 root 노드와 바꾸는 작업을 반복한다.\n",
    "\n",
    "<img src=\"https://www.fun-coding.org/00_Images/heap_remove.png\" width=\"600\"></br>\n",
    "(출처:fun-coding,https://www.fun-coding.org/Chapter11-heap.html)"
   ]
  },
  {
   "cell_type": "code",
   "execution_count": 3,
   "id": "ef45f399",
   "metadata": {},
   "outputs": [],
   "source": [
    "class Heap:\n",
    "    def __init__(self,data):\n",
    "        self.heap_array=list()\n",
    "        self.heap_array.append(None)\n",
    "        self.heap_array.append(data)\n",
    "        \n",
    "        \n",
    "    def move_down(self,popped_idx):\n",
    "        left_child_popped_idx=popped_idx*2\n",
    "        right_child_popped_idx=popped_idx*2+1\n",
    "        \n",
    "        # Case1: 자식 노드가 없을 때\n",
    "        if left_child_popped_idx>=len(self.heap_array):\n",
    "            return False\n",
    "        \n",
    "        # Case2: 오른쪽 자식 노드만 없을 때\n",
    "        elif right_child_popped_idx>=len(self.heap_array):\n",
    "            if self.heap_array[popped_idx]<self.heap_array[left_child_popped_idx]:\n",
    "                return True\n",
    "            else:\n",
    "                return False\n",
    "        \n",
    "        # Case3: 왼쪽, 오른쪽 자식 노드가 모두 있을 때\n",
    "        else:\n",
    "            if self.heap_array[left_child_popped_idx]>self.heap_array[right_child_popped_idx]:\n",
    "                if self.heap_array[popped_idx]<self.heap_array[left_child_popped_idx]:\n",
    "                    return True\n",
    "                else:\n",
    "                    return False\n",
    "            else:\n",
    "                if self.heap_array[popped_idx]<self.heap_array[right_child_popped_idx]:\n",
    "                    return True\n",
    "                else:\n",
    "                    return False\n",
    "        \n",
    "        \n",
    "    def pop(self):\n",
    "        if len(self.heap_array)<=1:\n",
    "            return None\n",
    "        \n",
    "        returned_data=self.heap_array[1]\n",
    "        self.heap_array[1]=self.heap_array[-1]\n",
    "        del self.heap_array[-1]\n",
    "        popped_idx=1\n",
    "        \n",
    "        while self.move_down(popped_idx):\n",
    "            left_child_popped_idx=popped_idx*2\n",
    "            right_child_popped_idx=popped_idx*2+1\n",
    "            \n",
    "            # Case2: 오른쪽 자식 노드만 없을 때\n",
    "            if right_child_popped_idx>=len(self.heap_array):\n",
    "                if self.heap_array[popped_idx]<self.heap_array[left_child_popped_idx]:\n",
    "                    self.heap_array[popped_idx],self.heap_array[left_child_popped_idx]=self.heap_array[left_child_popped_idx],self.heap_array[popped_idx]\n",
    "            \n",
    "            # Case3: 왼쪽, 오른쪽 자식 노드가 모두 있을 때\n",
    "            else:\n",
    "                if self.heap_array[left_child_popped_idx]>self.heap_array[right_child_popped_idx]:\n",
    "                    if self.heap_array[popped_idx]<self.heap_array[left_child_popped_idx]:\n",
    "                        self.heap_array[popped_idx],self.heap_array[left_child_popped_idx]=self.heap_array[left_child_popped_idx],self.heap_array[popped_idx]\n",
    "                        popped_idx=left_child_popped_idx\n",
    "                else:\n",
    "                    if self.heap_array[popped_idx]<self.heap_array[right_child_popped_idx]:\n",
    "                        self.heap_array[popped_idx],self.heap_array[right_child_popped_idx]=self.heap_array[right_child_popped_idx],self.heap_array[popped_idx]\n",
    "                        popped_idx=right_child_popped_idx\n",
    "            \n",
    "            return returned_data\n",
    "            \n",
    "    \n",
    "    def move_up(self,inserted_idx):\n",
    "        if inserted_idx<=1:\n",
    "            return False\n",
    "        parent_idx=inserted_idx//2\n",
    "        if self.heap_array[inserted_idx]>self.heap_array[parent_idx]:\n",
    "            return True\n",
    "        else:\n",
    "            return False\n",
    "        \n",
    "    def insert(self,data):\n",
    "        if len(heap.heap_array)==0:\n",
    "            self.heap_array.append(data)\n",
    "            return True\n",
    "        \n",
    "        self.heap_array.append(data)\n",
    "        inserted_idx=len(self.heap_array)-1\n",
    "        \n",
    "        while self.move_up(inserted_idx):\n",
    "            parent_idx=inserted_idx//2\n",
    "            self.heap_array[inserted_idx],self.heap_array[parent_idx]=self.heap_array[parent_idx],self.heap_array[inserted_idx]\n",
    "            inserted_idx=parent_idx\n",
    "        return True\n",
    "        \n",
    "        "
   ]
  },
  {
   "cell_type": "code",
   "execution_count": 11,
   "id": "a247b3d3",
   "metadata": {},
   "outputs": [
    {
     "data": {
      "text/plain": [
       "[None, 20, 10, 15, 5, 4, 8]"
      ]
     },
     "execution_count": 11,
     "metadata": {},
     "output_type": "execute_result"
    }
   ],
   "source": [
    "heap = Heap(15)\n",
    "heap.insert(10)\n",
    "heap.insert(8)\n",
    "heap.insert(5)\n",
    "heap.insert(4)\n",
    "heap.insert(20)\n",
    "heap.heap_array"
   ]
  },
  {
   "cell_type": "code",
   "execution_count": 12,
   "id": "7ac25272",
   "metadata": {},
   "outputs": [
    {
     "data": {
      "text/plain": [
       "[None, 15, 10, 8, 5, 4]"
      ]
     },
     "execution_count": 12,
     "metadata": {},
     "output_type": "execute_result"
    }
   ],
   "source": [
    "heap.pop()\n",
    "heap.heap_array"
   ]
  }
 ],
 "metadata": {
  "kernelspec": {
   "display_name": "Python 3 (ipykernel)",
   "language": "python",
   "name": "python3"
  },
  "language_info": {
   "codemirror_mode": {
    "name": "ipython",
    "version": 3
   },
   "file_extension": ".py",
   "mimetype": "text/x-python",
   "name": "python",
   "nbconvert_exporter": "python",
   "pygments_lexer": "ipython3",
   "version": "3.7.0"
  }
 },
 "nbformat": 4,
 "nbformat_minor": 5
}
