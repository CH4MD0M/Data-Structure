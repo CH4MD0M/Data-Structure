{
 "cells": [
  {
   "cell_type": "markdown",
   "id": "969e7f60",
   "metadata": {},
   "source": [
    "# 링크드 리스트(Linked List)\n",
    "\n",
    "연결 리스트라고도 함.</br>\n",
    "배열은 순차적으로 연결된 공간에 데이터를 나열하는 구조이지만,</br>\n",
    "링크드 리스트는 떨어진 곳에 존재하는 데이터를 화살표로 연결해서 관리하는 데이터 구조이다.<br>\n",
    "- 배열의 단점을 보완한 자료구조이다.\n",
    "\n",
    "<font color='red'> **파이썬은 리스트 타입이 링크드 리스트의 기능을 모두 지원한다.** </font>\n",
    "\n",
    "<img src=\"https://www.fun-coding.org/00_Images/linkedlist.png\" />\n",
    "(출처: wikipedia, https://en.wikipedia.org/wiki/Linked_list)"
   ]
  },
  {
   "cell_type": "markdown",
   "id": "aafc26dc",
   "metadata": {},
   "source": [
    "## 1. 링크드 리스트 기본 구조와 용어"
   ]
  },
  {
   "cell_type": "markdown",
   "id": "3bbbccd4",
   "metadata": {},
   "source": [
    "노드(Node): 데이터 저장 단위(데이터값, 포인터)로 저장.</br>\n",
    "포인터(Pointer): 각 노드 안에서, 다음이나 이전의 노드와의 연결 정보를 가지고 있는 공간."
   ]
  },
  {
   "cell_type": "markdown",
   "id": "13a53caa",
   "metadata": {},
   "source": [
    "---"
   ]
  },
  {
   "cell_type": "markdown",
   "id": "224b0f3b",
   "metadata": {},
   "source": [
    "## 2. 간단한 링크드 리스트"
   ]
  },
  {
   "cell_type": "code",
   "execution_count": 1,
   "id": "ccfe193a",
   "metadata": {},
   "outputs": [],
   "source": [
    "# Node 구현\n",
    "class Node:\n",
    "    def __init__(self,data):\n",
    "        self.data=data\n",
    "        self.next=None"
   ]
  },
  {
   "cell_type": "code",
   "execution_count": 2,
   "id": "3d658443",
   "metadata": {},
   "outputs": [],
   "source": [
    "class Node:\n",
    "    def __init__(self,data,next=None):\n",
    "        self.data=data\n",
    "        self.next=next"
   ]
  },
  {
   "cell_type": "code",
   "execution_count": 3,
   "id": "f13e56f9",
   "metadata": {},
   "outputs": [],
   "source": [
    "# Node와 Node 연결하기\n",
    "node1=Node(1)\n",
    "node2=Node(2)\n",
    "node1.next=node2\n",
    "head=node1"
   ]
  },
  {
   "cell_type": "markdown",
   "id": "f47d52cb",
   "metadata": {},
   "source": [
    "### 노드 추가 함수 구현"
   ]
  },
  {
   "cell_type": "code",
   "execution_count": 4,
   "id": "568c1dcc",
   "metadata": {},
   "outputs": [],
   "source": [
    "class Node:\n",
    "    def __init__(self,data,next=None):\n",
    "        self.data=data\n",
    "        self.next=next"
   ]
  },
  {
   "cell_type": "code",
   "execution_count": 5,
   "id": "3662a20a",
   "metadata": {},
   "outputs": [],
   "source": [
    "def add(data):\n",
    "    node=head\n",
    "    while node.next:\n",
    "    # node.next가 None이거나 Null일 때까지 찾음.\n",
    "        node=node.next\n",
    "    node.next=Node(data)"
   ]
  },
  {
   "cell_type": "code",
   "execution_count": 6,
   "id": "d3accece",
   "metadata": {},
   "outputs": [],
   "source": [
    "node1=Node(1)\n",
    "head=node1\n",
    "for i in range(2,10):\n",
    "    add(i)"
   ]
  },
  {
   "cell_type": "markdown",
   "id": "82cb332c",
   "metadata": {},
   "source": [
    "### 링크드 리스트 데이터 출력"
   ]
  },
  {
   "cell_type": "code",
   "execution_count": 7,
   "id": "ffcce787",
   "metadata": {},
   "outputs": [],
   "source": [
    "def display():\n",
    "    node=head\n",
    "    while node.next:\n",
    "        print(node.data)\n",
    "        node=node.next\n",
    "    print(node.data)"
   ]
  },
  {
   "cell_type": "code",
   "execution_count": 8,
   "id": "0f55db56",
   "metadata": {},
   "outputs": [
    {
     "name": "stdout",
     "output_type": "stream",
     "text": [
      "1\n",
      "2\n",
      "3\n",
      "4\n",
      "5\n",
      "6\n",
      "7\n",
      "8\n",
      "9\n"
     ]
    }
   ],
   "source": [
    "display()"
   ]
  },
  {
   "cell_type": "markdown",
   "id": "35668af7",
   "metadata": {},
   "source": [
    "## 3. 링크드 리스트의 장단점\n",
    "\n",
    "(전통적인 C언어에서의 배열과 링크드 리스트)\n",
    "\n",
    "### 장점\n",
    "- 미리 데이터 공간을 할당하지 않아도 된다(배열은 미리 데이터 공간을 할당해야 함).\n",
    "\n",
    "### 단점\n",
    "- 연결을 위한(포인터) 별도 데이터 공간이 필요하므로, 저장공간 효율이 높지 않다.\n",
    "- 연결 정보를 찾는 시간이 필요하므로 접근 속도가 느리다.\n",
    "- 중간 데이터 삭제시, 앞뒤 데이터의 연결을 재구성해야 하는 부가적인 작업이 필요하다."
   ]
  },
  {
   "cell_type": "markdown",
   "id": "ec2a4bc6",
   "metadata": {},
   "source": [
    "---"
   ]
  },
  {
   "cell_type": "markdown",
   "id": "8806f878",
   "metadata": {},
   "source": [
    "## 4. 링크드 리스트의 복잡한 기능1\n",
    "- 링크드 리스트 데이터 사이에 데이터를 추가"
   ]
  },
  {
   "cell_type": "code",
   "execution_count": 9,
   "id": "5907909e",
   "metadata": {},
   "outputs": [
    {
     "name": "stdout",
     "output_type": "stream",
     "text": [
      "1\n",
      "2\n",
      "3\n",
      "4\n",
      "5\n",
      "6\n",
      "7\n",
      "8\n",
      "9\n"
     ]
    }
   ],
   "source": [
    "display()"
   ]
  },
  {
   "cell_type": "code",
   "execution_count": 10,
   "id": "3d77866c",
   "metadata": {},
   "outputs": [],
   "source": [
    "node3=Node(1.5)"
   ]
  },
  {
   "cell_type": "code",
   "execution_count": 11,
   "id": "08fe491b",
   "metadata": {},
   "outputs": [],
   "source": [
    "# 데이터 사이의 데이터 추가\n",
    "node=head\n",
    "search=True\n",
    "while search:\n",
    "    if node.data==1:\n",
    "        search=False\n",
    "    else:\n",
    "        node=node.next\n",
    "\n",
    "node_next=node.next\n",
    "node.next=node3\n",
    "node3.next=node_next"
   ]
  },
  {
   "cell_type": "code",
   "execution_count": 12,
   "id": "526305aa",
   "metadata": {},
   "outputs": [
    {
     "name": "stdout",
     "output_type": "stream",
     "text": [
      "1\n",
      "1.5\n",
      "2\n",
      "3\n",
      "4\n",
      "5\n",
      "6\n",
      "7\n",
      "8\n",
      "9\n"
     ]
    }
   ],
   "source": [
    "display()"
   ]
  },
  {
   "cell_type": "markdown",
   "id": "fd6dae7b",
   "metadata": {},
   "source": [
    "## 5. 파이썬 객체지향 프로그래밍으로 링크드 리스트 구현"
   ]
  },
  {
   "cell_type": "code",
   "execution_count": 13,
   "id": "13cd9d36",
   "metadata": {},
   "outputs": [],
   "source": [
    "class Node:\n",
    "    def __init__(self,data,next=None):\n",
    "        self.data=data\n",
    "        self.next=next\n",
    "\n",
    "class NodeMgmt:\n",
    "    def __init__(self,data):\n",
    "        self.head=Node(data)\n",
    "        \n",
    "    def add(self,data):\n",
    "        if self.head=='':\n",
    "            self.head=Node(data)\n",
    "        else:\n",
    "            node=self.head\n",
    "            while node.next:\n",
    "                node=node.next\n",
    "            node.next=Node(data)\n",
    "        \n",
    "    def display(self):\n",
    "        node=self.head\n",
    "        while node:\n",
    "            print(node.data)\n",
    "            node=node.next"
   ]
  },
  {
   "cell_type": "code",
   "execution_count": 14,
   "id": "94f29844",
   "metadata": {},
   "outputs": [
    {
     "name": "stdout",
     "output_type": "stream",
     "text": [
      "0\n"
     ]
    }
   ],
   "source": [
    "linkedList1=NodeMgmt(0)\n",
    "linkedList1.display()"
   ]
  },
  {
   "cell_type": "code",
   "execution_count": 15,
   "id": "ef6dde30",
   "metadata": {},
   "outputs": [
    {
     "name": "stdout",
     "output_type": "stream",
     "text": [
      "0\n",
      "1\n",
      "2\n",
      "3\n",
      "4\n",
      "5\n",
      "6\n",
      "7\n",
      "8\n",
      "9\n"
     ]
    }
   ],
   "source": [
    "for data in range(1,10):\n",
    "    linkedList1.add(data)\n",
    "    \n",
    "linkedList1.display()"
   ]
  },
  {
   "cell_type": "markdown",
   "id": "281d2d92",
   "metadata": {},
   "source": [
    "## 6. 링크드 리스트의 복잡한 기능2\n",
    "- 특정 노드를 삭제"
   ]
  },
  {
   "cell_type": "code",
   "execution_count": 16,
   "id": "e8b1e5d0",
   "metadata": {},
   "outputs": [],
   "source": [
    "class Node:\n",
    "    def __init__(self,data,next=None):\n",
    "        self.data=data\n",
    "        self.next=next\n",
    "\n",
    "class NodeMgmt:\n",
    "    def __init__(self,data=None):\n",
    "        self.head=Node(data)\n",
    "    \n",
    "    def add(self,data):\n",
    "        if self.head=='':\n",
    "            self.head=Node(data)\n",
    "        else:\n",
    "            node=self.head\n",
    "            while node.next:\n",
    "                node=node.next\n",
    "            node.next=Node(data)\n",
    "    \n",
    "    def display(self):\n",
    "        node=self.head\n",
    "        while node:\n",
    "            print(node.data)\n",
    "            node=node.next\n",
    "    \n",
    "    def delete(self,data):\n",
    "        if self.head=='':\n",
    "            print('노드가 없습니다.')\n",
    "            return\n",
    "        \n",
    "        # head 삭제\n",
    "        if self.head.data==data:\n",
    "            tmp=self.head\n",
    "            self.head=self.head.next\n",
    "            del tmp\n",
    "        # 특정 위치 삭제\n",
    "        else:\n",
    "            node=self.head\n",
    "            while node.next:\n",
    "                # 더블 링크드 리스트가 아니기 때문에 node.next.next로 판별해야함\n",
    "                if node.next.data==data:\n",
    "                    tmp=node.next\n",
    "                    node.next=node.next.next\n",
    "                    del tmp\n",
    "                    return\n",
    "                node=node.next\n",
    "            "
   ]
  },
  {
   "cell_type": "code",
   "execution_count": 17,
   "id": "2b79fc72",
   "metadata": {},
   "outputs": [],
   "source": [
    "linkedList2=NodeMgmt(0)"
   ]
  },
  {
   "cell_type": "code",
   "execution_count": 18,
   "id": "c515cfb6",
   "metadata": {},
   "outputs": [
    {
     "name": "stdout",
     "output_type": "stream",
     "text": [
      "0\n",
      "1\n",
      "2\n",
      "3\n",
      "4\n",
      "5\n",
      "6\n",
      "7\n",
      "8\n",
      "9\n"
     ]
    }
   ],
   "source": [
    "for data in range(1,10):\n",
    "    linkedList2.add(data)\n",
    "    \n",
    "linkedList2.display()"
   ]
  },
  {
   "cell_type": "code",
   "execution_count": 19,
   "id": "7a8b0a87",
   "metadata": {},
   "outputs": [],
   "source": [
    "linkedList2.delete(4)"
   ]
  },
  {
   "cell_type": "code",
   "execution_count": 20,
   "id": "14b23e9a",
   "metadata": {},
   "outputs": [
    {
     "name": "stdout",
     "output_type": "stream",
     "text": [
      "0\n",
      "1\n",
      "2\n",
      "3\n",
      "5\n",
      "6\n",
      "7\n",
      "8\n",
      "9\n"
     ]
    }
   ],
   "source": [
    "linkedList2.display()"
   ]
  },
  {
   "cell_type": "markdown",
   "id": "c5838184",
   "metadata": {},
   "source": [
    "###  <font color='blue'> 연습 1: 노드 데이터가 2인 노드 삭제해보기</font>"
   ]
  },
  {
   "cell_type": "code",
   "execution_count": 21,
   "id": "bf45a672",
   "metadata": {},
   "outputs": [],
   "source": [
    "linkedList2.delete(2)"
   ]
  },
  {
   "cell_type": "code",
   "execution_count": 22,
   "id": "248b338e",
   "metadata": {},
   "outputs": [
    {
     "name": "stdout",
     "output_type": "stream",
     "text": [
      "0\n",
      "1\n",
      "3\n",
      "5\n",
      "6\n",
      "7\n",
      "8\n",
      "9\n"
     ]
    }
   ],
   "source": [
    "linkedList2.display()"
   ]
  },
  {
   "cell_type": "markdown",
   "id": "2a9de3a8",
   "metadata": {},
   "source": [
    "###  <font color='blue'> 연습 2: 노드 데이터가 특정 숫자인 함수 만들기</font>"
   ]
  },
  {
   "cell_type": "code",
   "execution_count": 23,
   "id": "6d857265",
   "metadata": {},
   "outputs": [],
   "source": [
    "class Node:\n",
    "    def __init__(self,data,next=None):\n",
    "        self.data=data\n",
    "        self.next=next\n",
    "    \n",
    "class NodeMgmt:\n",
    "    def __init__(self,data):\n",
    "        self.head=Node(data)\n",
    "    \n",
    "    def add(self,data):\n",
    "        if self.head=='':\n",
    "            slef.head=Node(data)\n",
    "        else:\n",
    "            node=self.head\n",
    "            while node.next:\n",
    "                node=node.next\n",
    "            node.next=Node(data)\n",
    "    \n",
    "    def display(self):\n",
    "        node=self.data\n",
    "        while node:\n",
    "            print(node.data)\n",
    "            node=node.next\n",
    "    def delete(self,data):\n",
    "        if self.head=='':\n",
    "            print('노드가 없습니다.')\n",
    "            return\n",
    "\n",
    "        if self.head.data==data:\n",
    "            tmp=self.head\n",
    "            self.head=self.head.next\n",
    "            del tmp\n",
    "        else:\n",
    "            node=self.head\n",
    "            if node.next.data==data:\n",
    "                tmp=node.next\n",
    "                node.next=node.next.next\n",
    "                del tmp\n",
    "                return\n",
    "            node=node.next\n",
    "    \n",
    "    def search(self,data):\n",
    "        node=self.head\n",
    "        while node:\n",
    "            if node.data==data:\n",
    "                return node\n",
    "            node=node.next\n",
    "                "
   ]
  },
  {
   "cell_type": "code",
   "execution_count": 24,
   "id": "b21e2b19",
   "metadata": {},
   "outputs": [],
   "source": [
    "linkedList3=NodeMgmt(0)\n",
    "for data in range(1,10):\n",
    "    linkedList3.add(data)"
   ]
  },
  {
   "cell_type": "code",
   "execution_count": 25,
   "id": "eb2b70d0",
   "metadata": {},
   "outputs": [
    {
     "name": "stdout",
     "output_type": "stream",
     "text": [
      "6\n"
     ]
    }
   ],
   "source": [
    "node=linkedList3.search(6)\n",
    "print(node.data)"
   ]
  },
  {
   "cell_type": "code",
   "execution_count": null,
   "id": "0a79d9d3",
   "metadata": {},
   "outputs": [],
   "source": []
  }
 ],
 "metadata": {
  "kernelspec": {
   "display_name": "Python 3 (ipykernel)",
   "language": "python",
   "name": "python3"
  },
  "language_info": {
   "codemirror_mode": {
    "name": "ipython",
    "version": 3
   },
   "file_extension": ".py",
   "mimetype": "text/x-python",
   "name": "python",
   "nbconvert_exporter": "python",
   "pygments_lexer": "ipython3",
   "version": "3.7.0"
  }
 },
 "nbformat": 4,
 "nbformat_minor": 5
}
