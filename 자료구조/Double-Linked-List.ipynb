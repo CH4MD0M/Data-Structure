{
 "cells": [
  {
   "cell_type": "markdown",
   "id": "15891ae5",
   "metadata": {},
   "source": [
    "## 7. 더블 링크드 리스트(Double Linked List)\n",
    "이중 연결 리스트라고도 한다. 양방향으로 연결되어 있어서 노드 탐색이 양쪽으로 모두 가능하다.\n",
    "<img src=\"https://www.fun-coding.org/00_Images/doublelinkedlist.png\" />\n",
    "(출처: wikipedia, https://en.wikipedia.org/wiki/Linked_list)"
   ]
  },
  {
   "cell_type": "code",
   "execution_count": 1,
   "id": "2080ceaa",
   "metadata": {},
   "outputs": [],
   "source": [
    "class Node:\n",
    "    def __init__(self,data,prev=None,next=None):\n",
    "        self.prev=prev\n",
    "        self.data=data\n",
    "        self.next=next\n",
    "    \n",
    "class NodeMgmt:\n",
    "    def __init__(self,data):\n",
    "        self.head=Node(data)\n",
    "        self.tail=self.head\n",
    "\n",
    "    def add(self,data):\n",
    "        # head가 없을 때\n",
    "        if self.head==None:\n",
    "            self.head=Node(data)\n",
    "            self.tail=self.head\n",
    "        else:\n",
    "            node=self.head\n",
    "            while node.next:\n",
    "                node=node.next\n",
    "            new=Node(data)\n",
    "            node.next=new\n",
    "            new.prev=node\n",
    "            self.tail=new\n",
    "\n",
    "    def display(self):\n",
    "        node=self.head\n",
    "        while node:\n",
    "            print(node.data)\n",
    "            node=node.next"
   ]
  },
  {
   "cell_type": "code",
   "execution_count": 2,
   "id": "95be9539",
   "metadata": {},
   "outputs": [
    {
     "name": "stdout",
     "output_type": "stream",
     "text": [
      "0\n",
      "1\n",
      "2\n",
      "3\n",
      "4\n",
      "5\n",
      "6\n",
      "7\n",
      "8\n",
      "9\n"
     ]
    }
   ],
   "source": [
    "d_linkedList1=NodeMgmt(0)\n",
    "for data in range(1,10):\n",
    "    d_linkedList1.add(data)\n",
    "\n",
    "d_linkedList1.display()"
   ]
  },
  {
   "cell_type": "markdown",
   "id": "3ff7f396",
   "metadata": {},
   "source": [
    "###  <font color='blue'> 연습 1: 특정 위치 앞에 노드 추가하는 함수 만들기</font>"
   ]
  },
  {
   "cell_type": "code",
   "execution_count": 3,
   "id": "3a98e0d2",
   "metadata": {},
   "outputs": [],
   "source": [
    "class Node:\n",
    "    def __init__(self,data,prev=None,next=None):\n",
    "        self.prev=prev\n",
    "        self.data=data\n",
    "        self.next=next\n",
    "\n",
    "class NodeMgmt:\n",
    "    def __init__(self,data):\n",
    "        self.head=Node(data)\n",
    "        self.tail=self.head\n",
    "    \n",
    "    def add(self,data):\n",
    "        if self.head==None:\n",
    "            self.head=Node(data)\n",
    "            return\n",
    "\n",
    "        node=self.head\n",
    "        while node.next:\n",
    "            node=node.next\n",
    "        new=Node(data)\n",
    "        node.next=new\n",
    "        new.prev=node\n",
    "        self.tail=new\n",
    "    \n",
    "    def display(self):\n",
    "        node=self.head\n",
    "        while node:\n",
    "            print(node.data)\n",
    "            node=node.next\n",
    "            \n",
    "    # head->tail 탐색\n",
    "    def searchFromHead(self,data):\n",
    "        if self.head==None:\n",
    "            return False\n",
    "        \n",
    "        node=self.head\n",
    "        while node:\n",
    "            if node.data==data:\n",
    "                return node\n",
    "            else:\n",
    "                node=node.next\n",
    "        return False\n",
    "    \n",
    "    # tail->head 탐색\n",
    "    def searchFromTail(self,data):\n",
    "        if self.head==None:\n",
    "            return False\n",
    "        \n",
    "        node=self.tail\n",
    "        while node:\n",
    "            if node.data==data:\n",
    "                return node\n",
    "            else:\n",
    "                node=node.prev\n",
    "        return False\n",
    "    \n",
    "    # 특정 위치 앞에 노드 추가\n",
    "    def addBefore(self,data,beforeData):\n",
    "        if self.head==None:\n",
    "            self.head=Node(data)\n",
    "            return\n",
    "    \n",
    "        node=self.tail\n",
    "        while node.data!=beforeData:\n",
    "            node=node.prev\n",
    "            \n",
    "            if node==None:\n",
    "                return False\n",
    "\n",
    "        new=Node(data)\n",
    "        beforeNew=node.prev\n",
    "        beforeNew.next=new\n",
    "        new.prev=beforeNew\n",
    "        new.next=node\n",
    "        node.prev=new\n",
    "        return"
   ]
  },
  {
   "cell_type": "code",
   "execution_count": 4,
   "id": "2a3ea4e1",
   "metadata": {},
   "outputs": [
    {
     "name": "stdout",
     "output_type": "stream",
     "text": [
      "0\n",
      "1\n",
      "2\n",
      "3\n",
      "4\n",
      "5\n",
      "6\n",
      "7\n",
      "8\n",
      "9\n"
     ]
    }
   ],
   "source": [
    "d_linkedList2=NodeMgmt(0)\n",
    "for data in range(1,10):\n",
    "    d_linkedList2.add(data)\n",
    "\n",
    "d_linkedList2.display()"
   ]
  },
  {
   "cell_type": "code",
   "execution_count": 5,
   "id": "fee493f4",
   "metadata": {},
   "outputs": [
    {
     "data": {
      "text/plain": [
       "3"
      ]
     },
     "execution_count": 5,
     "metadata": {},
     "output_type": "execute_result"
    }
   ],
   "source": [
    "node3=d_linkedList2.searchFromTail(3)\n",
    "node3.data"
   ]
  },
  {
   "cell_type": "code",
   "execution_count": 6,
   "id": "ed624ea9",
   "metadata": {},
   "outputs": [
    {
     "name": "stdout",
     "output_type": "stream",
     "text": [
      "0\n",
      "1\n",
      "1.7\n",
      "2\n",
      "3\n",
      "4\n",
      "5\n",
      "6\n",
      "7\n",
      "8\n",
      "9\n"
     ]
    }
   ],
   "source": [
    "d_linkedList2.addBefore(1.7,2)\n",
    "d_linkedList2.display()"
   ]
  },
  {
   "cell_type": "markdown",
   "id": "4936df62",
   "metadata": {},
   "source": [
    "###  <font color='blue'> 연습 2: 특정 위치 뒤에 노드 추가하는 함수 만들기</font>"
   ]
  },
  {
   "cell_type": "code",
   "execution_count": 7,
   "id": "40c57c24",
   "metadata": {},
   "outputs": [],
   "source": [
    "class Node:\n",
    "    def __init__(self,data,prev=None,next=None):\n",
    "        self.data = data\n",
    "        self.prev = prev\n",
    "        self.next = next\n",
    "\n",
    "class NodeMgmt:\n",
    "    def __init__(self,data):\n",
    "        self.head=Node(data)\n",
    "        self.tail=self.head\n",
    "    \n",
    "    def add(self,data):\n",
    "        if self.head==None:\n",
    "            self.head=Node(data)\n",
    "            return\n",
    "        \n",
    "        node=self.head\n",
    "        while node.next:\n",
    "            node=node.next\n",
    "        new=Node(data)\n",
    "        node.next=new\n",
    "        new.prev=node\n",
    "\n",
    "        self.tail=new\n",
    "            \n",
    "    def display(self):\n",
    "        node=self.head\n",
    "        while node:\n",
    "            print(node.data)\n",
    "            node=node.next\n",
    "    \n",
    "    # 특정 위치 앞에 노드 추가\n",
    "    def addBefore(self,data,BeforeData):\n",
    "        if self.head==None:\n",
    "            self.head=Node(data)\n",
    "            return True\n",
    "\n",
    "        node=self.tail\n",
    "        while node.data!=beforeData:\n",
    "            node=node.prev\n",
    "            if node==None:\n",
    "                return False\n",
    "\n",
    "            new=Node(data)\n",
    "            node.prev.next=new\n",
    "            new.prev=node.prev\n",
    "            new.next=node\n",
    "            node.prev=new\n",
    "            return True                \n",
    "    \n",
    "    # 특정 위치 뒤에 노드 추가\n",
    "    def addAfter(self,data,afterData):\n",
    "        if self.head==None:\n",
    "            self.head=Node(data)\n",
    "            return True\n",
    "        \n",
    "        node=self.head\n",
    "        while node.data!=afterData:\n",
    "            node=node.next\n",
    "            if node==None:\n",
    "                return False\n",
    "        \n",
    "        new=Node(data)\n",
    "        new.next=node.next\n",
    "        new.prev=node\n",
    "        node.next=new\n",
    "        if node.next==None:\n",
    "            self.tail=new\n",
    "            return True\n",
    "\n",
    "        node.next.prev=new\n",
    "\n",
    "\n",
    "        \n"
   ]
  },
  {
   "cell_type": "code",
   "execution_count": 8,
   "id": "6242d8f9",
   "metadata": {},
   "outputs": [],
   "source": [
    "d_linkedList2=NodeMgmt(0)\n",
    "\n",
    "for data in range(1,10):\n",
    "    d_linkedList2.add(data)\n"
   ]
  },
  {
   "cell_type": "code",
   "execution_count": 9,
   "id": "d34db9e0",
   "metadata": {},
   "outputs": [
    {
     "name": "stdout",
     "output_type": "stream",
     "text": [
      "0\n",
      "1\n",
      "2\n",
      "3\n",
      "4\n",
      "5\n",
      "6\n",
      "7\n",
      "8\n",
      "9\n"
     ]
    }
   ],
   "source": [
    "d_linkedList2.display()"
   ]
  },
  {
   "cell_type": "code",
   "execution_count": 10,
   "id": "3011a835",
   "metadata": {},
   "outputs": [
    {
     "name": "stdout",
     "output_type": "stream",
     "text": [
      "0\n",
      "1\n",
      "2\n",
      "3\n",
      "4\n",
      "5\n",
      "6\n",
      "3.111\n",
      "7\n",
      "8\n",
      "9\n"
     ]
    }
   ],
   "source": [
    "d_linkedList2.addAfter(3.111,6)\n",
    "d_linkedList2.display()"
   ]
  }
 ],
 "metadata": {
  "kernelspec": {
   "display_name": "Python 3 (ipykernel)",
   "language": "python",
   "name": "python3"
  },
  "language_info": {
   "codemirror_mode": {
    "name": "ipython",
    "version": 3
   },
   "file_extension": ".py",
   "mimetype": "text/x-python",
   "name": "python",
   "nbconvert_exporter": "python",
   "pygments_lexer": "ipython3",
   "version": "3.7.0"
  }
 },
 "nbformat": 4,
 "nbformat_minor": 5
}
