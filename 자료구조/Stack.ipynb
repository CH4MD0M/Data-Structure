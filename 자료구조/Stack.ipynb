{
 "cells": [
  {
   "cell_type": "markdown",
   "id": "ef39a392",
   "metadata": {},
   "source": [
    "# 스택(Stack)\n",
    "데이터를 제한적으로 접근할 수 있는 구조</br>\n",
    "가장 나중에 쌓은 데이터를 가장 먼저 빼냉 수 있는 데이터 구조\n",
    "- Last-In, First-Out"
   ]
  },
  {
   "cell_type": "markdown",
   "id": "44fd60a6",
   "metadata": {},
   "source": [
    "## 1. 스택 구조\n",
    "#### 스택은 LIFO(Last In, Fisrt Out) 또는 FILO(First In, Last Out) 데이터 관리 방식을 따름.\n",
    "- LIFO: 마지막에 넣은 데이터를 가장 먼저 추출하는 데이터 관리 정책\n",
    "- FILO: 처음에 넣은 데이터를 가장 마지막에 추출하는 데이터 관리 정책\n",
    "\n",
    "#### 대표적인 스택의 활용\n",
    "- 컴퓨터 내부의 프로세스 구조의 함수 동작 방식\n",
    "\n",
    "#### 주요기능\n",
    "- push(): 데이터를 스택에 삽입.\n",
    "- pop(): 데이터를 스택에서 제거.\n"
   ]
  },
  {
   "cell_type": "markdown",
   "id": "8b9a4bf4",
   "metadata": {},
   "source": [
    "## 2. 스택 구조와 프로세스 스택\n",
    "스택 구조는 프로세스 실행 구조의 가장 기본이다.</br>\n",
    "함수 호출 시, 프로세스 실행 구조를 스택과 비교해서 이해가 필요하다."
   ]
  },
  {
   "cell_type": "code",
   "execution_count": 1,
   "id": "88cc2d4d",
   "metadata": {},
   "outputs": [],
   "source": [
    "def recursive(data):\n",
    "    if data<0:\n",
    "        print('ended')\n",
    "    else:\n",
    "        print(data)\n",
    "        recursive(data-1)\n",
    "        print('returned',data)"
   ]
  },
  {
   "cell_type": "code",
   "execution_count": 2,
   "id": "edd7269c",
   "metadata": {},
   "outputs": [
    {
     "name": "stdout",
     "output_type": "stream",
     "text": [
      "4\n",
      "3\n",
      "2\n",
      "1\n",
      "0\n",
      "ended\n",
      "returned 0\n",
      "returned 1\n",
      "returned 2\n",
      "returned 3\n",
      "returned 4\n"
     ]
    }
   ],
   "source": [
    "recursive(4)"
   ]
  },
  {
   "cell_type": "markdown",
   "id": "b2506184",
   "metadata": {},
   "source": [
    "## 3. 스택의 장단점\n",
    "### 장점\n",
    "- 구조가 단순해서 구현이 쉽다.\n",
    "- 데이터 저장,읽기 속도가 빠르다.\n",
    "\n",
    "### 단점\n",
    "- 데이터 최대 갯수를 미리 정해야 한다.(파이썬의 경우 재귀 함수는 1000번 까지만 호출이 가능함.)\n",
    "- 저장 공간의 낭비가 발생할 수 있다. (미리 최대 갯수만큼 저장 공간을 확보해야 함.)"
   ]
  },
  {
   "cell_type": "markdown",
   "id": "ee7edd34",
   "metadata": {},
   "source": [
    "## 4. 스택 구현"
   ]
  },
  {
   "cell_type": "code",
   "execution_count": 3,
   "id": "09faa156",
   "metadata": {},
   "outputs": [],
   "source": [
    "data_stack=list()\n",
    "\n",
    "data_stack.append(1)\n",
    "data_stack.append(2)"
   ]
  },
  {
   "cell_type": "code",
   "execution_count": 4,
   "id": "88de38fd",
   "metadata": {},
   "outputs": [
    {
     "data": {
      "text/plain": [
       "[1, 2]"
      ]
     },
     "execution_count": 4,
     "metadata": {},
     "output_type": "execute_result"
    }
   ],
   "source": [
    "data_stack"
   ]
  },
  {
   "cell_type": "code",
   "execution_count": 5,
   "id": "db37c062",
   "metadata": {},
   "outputs": [
    {
     "data": {
      "text/plain": [
       "2"
      ]
     },
     "execution_count": 5,
     "metadata": {},
     "output_type": "execute_result"
    }
   ],
   "source": [
    "data_stack.pop()"
   ]
  },
  {
   "cell_type": "markdown",
   "id": "f162d500",
   "metadata": {},
   "source": [
    "## 5. 프로그래밍 연습"
   ]
  },
  {
   "cell_type": "code",
   "execution_count": 18,
   "id": "dd18f785",
   "metadata": {},
   "outputs": [],
   "source": [
    "stack_list=list()\n",
    "\n",
    "def push(data):\n",
    "    stack_list.append(data)\n",
    "\n",
    "def pop():\n",
    "    data=stack_list[-1]\n",
    "    stack_list.pop()\n",
    "    return data"
   ]
  },
  {
   "cell_type": "code",
   "execution_count": 19,
   "id": "54d9a29b",
   "metadata": {},
   "outputs": [],
   "source": [
    "for i in range(10):\n",
    "    push(i)"
   ]
  },
  {
   "cell_type": "code",
   "execution_count": 20,
   "id": "3a067377",
   "metadata": {},
   "outputs": [
    {
     "data": {
      "text/plain": [
       "[0, 1, 2, 3, 4, 5, 6, 7, 8, 9]"
      ]
     },
     "execution_count": 20,
     "metadata": {},
     "output_type": "execute_result"
    }
   ],
   "source": [
    "stack_list"
   ]
  },
  {
   "cell_type": "code",
   "execution_count": 21,
   "id": "4c78f792",
   "metadata": {},
   "outputs": [
    {
     "data": {
      "text/plain": [
       "9"
      ]
     },
     "execution_count": 21,
     "metadata": {},
     "output_type": "execute_result"
    }
   ],
   "source": [
    "pop()"
   ]
  },
  {
   "cell_type": "code",
   "execution_count": null,
   "id": "953577f7",
   "metadata": {},
   "outputs": [],
   "source": []
  }
 ],
 "metadata": {
  "kernelspec": {
   "display_name": "Python 3 (ipykernel)",
   "language": "python",
   "name": "python3"
  },
  "language_info": {
   "codemirror_mode": {
    "name": "ipython",
    "version": 3
   },
   "file_extension": ".py",
   "mimetype": "text/x-python",
   "name": "python",
   "nbconvert_exporter": "python",
   "pygments_lexer": "ipython3",
   "version": "3.7.0"
  }
 },
 "nbformat": 4,
 "nbformat_minor": 5
}
