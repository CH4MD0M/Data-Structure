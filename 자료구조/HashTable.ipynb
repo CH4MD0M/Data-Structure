{
 "cells": [
  {
   "cell_type": "markdown",
   "id": "79b012d3",
   "metadata": {},
   "source": [
    "# 해쉬 테이블(Hash Table)"
   ]
  },
  {
   "cell_type": "markdown",
   "id": "4fdb4487",
   "metadata": {},
   "source": [
    "## 해쉬 구조\n",
    "키(Key)에 데이터(Value)를 저장하는 데이터 구조</br>\n",
    "key를 통해 바로 데이터를 받아올 수 있으므로, 속도가 빠르다.</br>\n",
    "파이썬 딕셔너리(Dictionary)타입으로 해쉬 테이블 구현이 가능하다.\n",
    "- 파이썬에서는 해쉬를 별도 구현할 이유가 없다(딕셔너리 타입을 사용하면 된다)."
   ]
  },
  {
   "cell_type": "markdown",
   "id": "e307578c",
   "metadata": {},
   "source": [
    "## 알아둘 용어"
   ]
  },
  {
   "cell_type": "markdown",
   "id": "d770fb5e",
   "metadata": {},
   "source": [
    "- **해쉬(Hash):** 임의의 값을 고정 길이로 변환하는 것.\n",
    "- **해쉬 테이블(Hash Table):** 키 값의 연산에 의해 직접 접근이 가능한 데이터 구조.\n",
    "- **해쉬 값(Hash Value):** key를 해싱 함수로 연산해서, **해쉬 값**을 알아내고 이를 기반으로 해쉬 태이블에서 해당 key에 대한 데이터 위치를 찾을 수 있다.\n",
    "- **슬롯(slot):** 한 개의 데이터를 저장할 수 있는 공간\n"
   ]
  },
  {
   "cell_type": "markdown",
   "id": "383b35c0",
   "metadata": {},
   "source": [
    "---"
   ]
  },
  {
   "cell_type": "markdown",
   "id": "881e7b7f",
   "metadata": {},
   "source": [
    "## 해쉬 구현"
   ]
  },
  {
   "cell_type": "markdown",
   "id": "aba9a19a",
   "metadata": {},
   "source": [
    "### 해쉬 테이블 만들기"
   ]
  },
  {
   "cell_type": "code",
   "execution_count": 1,
   "id": "3357ebc3",
   "metadata": {},
   "outputs": [
    {
     "data": {
      "text/plain": [
       "[0, 1, 2, 3, 4, 5, 6, 7, 8, 9]"
      ]
     },
     "execution_count": 1,
     "metadata": {},
     "output_type": "execute_result"
    }
   ],
   "source": [
    "hash_table = list([i for i in range(10)])\n",
    "hash_table"
   ]
  },
  {
   "cell_type": "markdown",
   "id": "fffa36d5",
   "metadata": {},
   "source": [
    "### 해쉬 함수 만들기"
   ]
  },
  {
   "cell_type": "code",
   "execution_count": 2,
   "id": "fd0eb79a",
   "metadata": {},
   "outputs": [],
   "source": [
    "# 해쉬 값을 return\n",
    "def hash_func(key):\n",
    "    return key%5"
   ]
  },
  {
   "cell_type": "markdown",
   "id": "8931edaa",
   "metadata": {},
   "source": [
    "### 해쉬 테이블 데이터 저장"
   ]
  },
  {
   "cell_type": "code",
   "execution_count": 3,
   "id": "637e9467",
   "metadata": {},
   "outputs": [
    {
     "name": "stdout",
     "output_type": "stream",
     "text": [
      "65 68 84\n",
      "65 0\n"
     ]
    }
   ],
   "source": [
    "data1 = 'Andy'\n",
    "data2 = 'Dave'\n",
    "data3 = 'Trump'\n",
    "data4 = 'Anthor'\n",
    "\n",
    "print(ord(data1[0]), ord(data2[0]), ord(data3[0]))\n",
    "print(ord(data1[0]), hash_func(ord(data1[0])))"
   ]
  },
  {
   "cell_type": "code",
   "execution_count": 4,
   "id": "3c6529ad",
   "metadata": {},
   "outputs": [],
   "source": [
    "def storage_data(data,value):\n",
    "    key=ord(data[0])\n",
    "    hash_address=hash_func(key)\n",
    "    hash_table[hash_address]=value"
   ]
  },
  {
   "cell_type": "code",
   "execution_count": 5,
   "id": "0746b778",
   "metadata": {},
   "outputs": [],
   "source": [
    "storage_data('Andy', '01055553333')\n",
    "storage_data('Dave', '01044443333')\n",
    "storage_data('Trump', '01022223333')"
   ]
  },
  {
   "cell_type": "markdown",
   "id": "d19d87ca",
   "metadata": {},
   "source": [
    "### 해쉬 테이블 데이터 불러오기"
   ]
  },
  {
   "cell_type": "code",
   "execution_count": 6,
   "id": "88817483",
   "metadata": {},
   "outputs": [],
   "source": [
    "def get_data(data):\n",
    "    key=ord(data[0])\n",
    "    hash_address=hash_func(key)\n",
    "    return hash_table[hash_address]"
   ]
  },
  {
   "cell_type": "code",
   "execution_count": 7,
   "id": "979dbdf8",
   "metadata": {},
   "outputs": [
    {
     "data": {
      "text/plain": [
       "'01055553333'"
      ]
     },
     "execution_count": 7,
     "metadata": {},
     "output_type": "execute_result"
    }
   ],
   "source": [
    "get_data('Andy')"
   ]
  },
  {
   "cell_type": "markdown",
   "id": "79212f4a",
   "metadata": {},
   "source": [
    "## 해쉬 테이블의 장단점\n",
    "### 장점\n",
    "- 데이터 저장/읽기 속도가 빠르다.\n",
    "- 중복 처리가 쉽다.\n",
    "\n",
    "### 단점\n",
    "- 저장 공간이 좀 더 많이 필요하다.\n",
    "- 데이터가 중복되어 발생하는 충돌을 해결하기 위한 별도 자료구조가 필요하다.\n",
    "\n",
    "### 주요 용도\n",
    "- 검색이 많이 필요한 경우\n",
    "- 저장, 삭제, 읽기가 빈번한 경우\n",
    "- 캐쉬 구현시(중복 확인이 쉽기 때문)"
   ]
  },
  {
   "cell_type": "markdown",
   "id": "98a58fbe",
   "metadata": {},
   "source": [
    "---"
   ]
  },
  {
   "cell_type": "markdown",
   "id": "e16d3ed2",
   "metadata": {},
   "source": [
    "## 프로그래밍 연습"
   ]
  },
  {
   "cell_type": "markdown",
   "id": "e1973cef",
   "metadata": {},
   "source": [
    "<font color=\"blue\">**연습1: 리스트 변수를 활용해서 해쉬 테이블 구현해보기**</font>"
   ]
  },
  {
   "cell_type": "code",
   "execution_count": 8,
   "id": "6281332c",
   "metadata": {},
   "outputs": [],
   "source": [
    "hash_table=list([0 for i in range(8)])\n",
    "\n",
    "def get_key(data):\n",
    "    return hash(data)\n",
    "    \n",
    "def hash_func(key):\n",
    "    return key%8\n",
    "\n",
    "def save_data(data,value):\n",
    "    hash_address=hash_func(get_key(data))\n",
    "    hash_table[hash_address]=value\n",
    "    \n",
    "def read_data(data):\n",
    "    hash_address=hash_func(get_key(data))\n",
    "    return hash_table[hash_address]\n",
    "    "
   ]
  },
  {
   "cell_type": "code",
   "execution_count": 9,
   "id": "ac18f2e0",
   "metadata": {},
   "outputs": [
    {
     "data": {
      "text/plain": [
       "'01012341234'"
      ]
     },
     "execution_count": 9,
     "metadata": {},
     "output_type": "execute_result"
    }
   ],
   "source": [
    "save_data('Dave', '01012341234')\n",
    "save_data('Andy', '01012343334')\n",
    "read_data('Dave')\n"
   ]
  },
  {
   "cell_type": "code",
   "execution_count": 10,
   "id": "d56f5c96",
   "metadata": {},
   "outputs": [
    {
     "data": {
      "text/plain": [
       "[0, 0, 0, 0, 0, '01012343334', '01012341234', 0]"
      ]
     },
     "execution_count": 10,
     "metadata": {},
     "output_type": "execute_result"
    }
   ],
   "source": [
    "hash_table"
   ]
  },
  {
   "cell_type": "markdown",
   "id": "5097c46d",
   "metadata": {},
   "source": [
    "---"
   ]
  },
  {
   "cell_type": "markdown",
   "id": "523c93a3",
   "metadata": {},
   "source": [
    "## 충돌(Collision) 해결 알고리즘"
   ]
  },
  {
   "cell_type": "markdown",
   "id": "aeb815ce",
   "metadata": {},
   "source": [
    "### Chaining 기법\n",
    "- **개방 해슁 또는 Open Hashing 기법** 중 하나. 해쉬 테이블 저장공간 외의 공간을 활용하는 기법이다.\n",
    "- 충돌이 일어나면, 링크드 리스트라는 자료 구조를 사용해 데이터를 추가로 뒤에 연결시켜서 저장하는 기법."
   ]
  },
  {
   "cell_type": "code",
   "execution_count": 11,
   "id": "5b623f76",
   "metadata": {},
   "outputs": [],
   "source": [
    "hash_table=list([0 for i in range(8)])\n",
    "\n",
    "def get_key(data):\n",
    "    return hash(data)\n",
    "\n",
    "def hash_function(key):\n",
    "    return key%8\n",
    "\n",
    "def save_data(data,value):\n",
    "    index_key=get_key(data)\n",
    "    hash_address=hash_function(index_key)\n",
    "\n",
    "    # 값이 있는 경우(=비어있지 않은 경우)\n",
    "    if hash_table[hash_address]!=0:\n",
    "        for index in range(len(hash_table[hash_address])):\n",
    "            # 기존 값 최신화(덮어쓰기)\n",
    "            if hash_table[hash_address][index][0]==index_key:\n",
    "                hash_table[hash_address][index][1]=value\n",
    "                return \n",
    "        # 링크드 리스트로 데이터를 삽입 (chaining 기법)\n",
    "        hash_table[hash_address].append([index_key,value])\n",
    "        \n",
    "    else:\n",
    "        hash_table[hash_address]=[[index_key,value]]\n",
    "    \n",
    "    \n",
    "def read_data(data):\n",
    "    index_key=get_key(data)\n",
    "    hash_address=hash_function(index_key)\n",
    "    \n",
    "    # 값이 있는 경우(=비어있지 않은 경우)\n",
    "    if hash_table[hash_address]!=0:\n",
    "        for index in range(len(hash_table[hash_address])):\n",
    "            if hash_table[hash_address][index][0]==index_key:\n",
    "                return hash_table[hash_address][index][1]\n",
    "        # 링크드 리스트를 탐색했을 때 값이 없는 경우\n",
    "        return None\n",
    "    # 값이 없는 경우\n",
    "    else:\n",
    "        return None\n",
    "\n"
   ]
  },
  {
   "cell_type": "code",
   "execution_count": 12,
   "id": "e4b7d916",
   "metadata": {},
   "outputs": [
    {
     "name": "stdout",
     "output_type": "stream",
     "text": [
      "1\n",
      "1\n",
      "1\n"
     ]
    }
   ],
   "source": [
    "print (hash('Daq') % 8)\n",
    "print (hash('Dar') % 8)\n",
    "print (hash('Data') % 8)"
   ]
  },
  {
   "cell_type": "code",
   "execution_count": 13,
   "id": "1278c498",
   "metadata": {},
   "outputs": [
    {
     "data": {
      "text/plain": [
       "'03346766'"
      ]
     },
     "execution_count": 13,
     "metadata": {},
     "output_type": "execute_result"
    }
   ],
   "source": [
    "save_data('Daq','123123')\n",
    "save_data('Dar','03346766')\n",
    "read_data('Dar')"
   ]
  },
  {
   "cell_type": "code",
   "execution_count": 14,
   "id": "312e7076",
   "metadata": {},
   "outputs": [
    {
     "data": {
      "text/plain": [
       "[0,\n",
       " [[-464949538387789943, '123123'], [-7209575993820608039, '03346766']],\n",
       " 0,\n",
       " 0,\n",
       " 0,\n",
       " 0,\n",
       " 0,\n",
       " 0]"
      ]
     },
     "execution_count": 14,
     "metadata": {},
     "output_type": "execute_result"
    }
   ],
   "source": [
    "hash_table"
   ]
  },
  {
   "cell_type": "markdown",
   "id": "5db9ae26",
   "metadata": {},
   "source": [
    "### Linear Probing 기법\n",
    "- **폐쇄 해슁 또는 Close Hashing 기법** 중 하나. 해쉬 테이블 저장공간 안에서 충돌 문제를 해결하는 기법이다.\n",
    "- 충돌이 일어나면, 해당 hash address의 다음 address부터 빈 공간을 탐색하여 저장하는 기법."
   ]
  },
  {
   "cell_type": "code",
   "execution_count": 15,
   "id": "d9638aa3",
   "metadata": {},
   "outputs": [],
   "source": [
    "hash_table=list([0 for i in range(8)])\n",
    "\n",
    "def get_key(data):\n",
    "    return hash(data)\n",
    "\n",
    "def hash_function(key):\n",
    "    return key%8\n",
    "\n",
    "def save_data(data,value):\n",
    "    index_key=get_key(data)\n",
    "    hash_address=hash_function(index_key)\n",
    "    \n",
    "    if hash_table[hash_address]!=0:\n",
    "        for index in range(hash_address,len(hash_table)):\n",
    "            # slot이 비어 있다면\n",
    "            if hash_table[index]==0:\n",
    "                hash_table[index]=[index_key,value]\n",
    "                return\n",
    "            # 기존 값 최신화(덮어쓰기)\n",
    "            elif hash_table[index][0]==index_key:\n",
    "                hash_table[index][1]=value\n",
    "                return\n",
    "    else:\n",
    "        hash_table[hash_address]=[index_key,value]\n",
    "        \n",
    "def read_data(data):\n",
    "    index_key=get_key(data)\n",
    "    hash_address=hash_function(index_key)\n",
    "    \n",
    "    if hash_table[hash_address]!=0:\n",
    "        for index in range(hash_address,len(hash_table)):\n",
    "            if hash_table[index]==0:\n",
    "                return None\n",
    "            elif hash_table[index][0]==index_key:\n",
    "                return hash_table[index][1]\n",
    "    else:\n",
    "        return None"
   ]
  },
  {
   "cell_type": "code",
   "execution_count": 16,
   "id": "d7e9b859",
   "metadata": {},
   "outputs": [
    {
     "name": "stdout",
     "output_type": "stream",
     "text": [
      "1\n",
      "1\n",
      "1\n"
     ]
    }
   ],
   "source": [
    "print (hash('Daq') % 8)\n",
    "print (hash('Dar') % 8)\n",
    "print (hash('Data') % 8)"
   ]
  },
  {
   "cell_type": "code",
   "execution_count": 17,
   "id": "ecdddf7d",
   "metadata": {},
   "outputs": [
    {
     "data": {
      "text/plain": [
       "'03346766'"
      ]
     },
     "execution_count": 17,
     "metadata": {},
     "output_type": "execute_result"
    }
   ],
   "source": [
    "save_data('Daq','123123')\n",
    "save_data('Dar','03346766')\n",
    "read_data('Dar')"
   ]
  },
  {
   "cell_type": "code",
   "execution_count": 18,
   "id": "a0945601",
   "metadata": {},
   "outputs": [
    {
     "data": {
      "text/plain": [
       "[0,\n",
       " [-464949538387789943, '123123'],\n",
       " [-7209575993820608039, '03346766'],\n",
       " 0,\n",
       " 0,\n",
       " 0,\n",
       " 0,\n",
       " 0]"
      ]
     },
     "execution_count": 18,
     "metadata": {},
     "output_type": "execute_result"
    }
   ],
   "source": [
    "hash_table"
   ]
  },
  {
   "cell_type": "code",
   "execution_count": null,
   "id": "316cbb4b",
   "metadata": {},
   "outputs": [],
   "source": []
  }
 ],
 "metadata": {
  "kernelspec": {
   "display_name": "Python 3 (ipykernel)",
   "language": "python",
   "name": "python3"
  },
  "language_info": {
   "codemirror_mode": {
    "name": "ipython",
    "version": 3
   },
   "file_extension": ".py",
   "mimetype": "text/x-python",
   "name": "python",
   "nbconvert_exporter": "python",
   "pygments_lexer": "ipython3",
   "version": "3.7.0"
  }
 },
 "nbformat": 4,
 "nbformat_minor": 5
}
