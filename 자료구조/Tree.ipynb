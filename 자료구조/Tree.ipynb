{
 "cells": [
  {
   "cell_type": "markdown",
   "id": "42bab625",
   "metadata": {},
   "source": [
    "# 트리(Tree)"
   ]
  },
  {
   "cell_type": "markdown",
   "id": "81e5e99b",
   "metadata": {},
   "source": [
    "## 알아둘 용어\n",
    "- **노드(Node):** 트리에서 데이터를 저장하는 기본 요소.\n",
    "- **루트 노드(Root Node):** 트리 최상위 노드.\n",
    "- **단말노드(Leaf Node):** Child Node가 없는 노드.\n",
    "- **부모 노드(Parent Node):** 어떤 노드의 상위 레벨에 연결된 노드.\n",
    "- **자식 노드(Child Node):** 어떤 노드의 다음 레벨에 연결된 노드.\n",
    "- **형제(Sibling):** 동일한 Parent Node를 가진 노드.\n",
    "- **노드의 레벨(Level):** 트리의 특정 깊이를 가지는 노드의 집합.\n",
    "- **노드의 깊이(Depth):** 루트에서 어떤 노드에 도달하기 위해 거쳐야 하는 간선의 수."
   ]
  },
  {
   "cell_type": "markdown",
   "id": "7d02b7d7",
   "metadata": {},
   "source": [
    "## 이진 트리와 이진 탐색 트리\n",
    "#### 이진 트리(Binary Tree)\n",
    "노드가 왼쪽 자식(Left Child)과 오른쪽 자식(Right Child)만을 갖는 트리를 **이진 트리(Binary Tree)** 라고 한다.\n",
    "#### 완전 이진 트리(Complete Binary Tree)\n",
    "루트부터 아래쪽 레벨로 노드가 가득 차 있고, 같은 레벨 안에서 왼쪽부터 오른쪼긍로 노드가 가득 채워져 있는 이진트리를 **완전 이진 트리(Complete Binary Tree)** 라고 하다.\n",
    "#### 이진 탐색 트리(Binary Search Tree, BST)\n",
    "이진탐색(binary search)과 연결리스트(linked list)를 결합한 자료구조의 일종이다.</br>\n",
    "이진탐색트리는 다음과 같은 속성을 갖는다.\n",
    "- 각 노드의 왼쪽 서브트리에는 해당 노드의 값보다 작은 값을 지닌 노드들로 이루어져 있다.\n",
    "- 각 노드의 오른쪽 서브트리에는 해당 노드의 값보다 큰 값을 지닌 노드들로 이루어져 있다.\n",
    "- 중복된 노드가 없어야 한다.\n",
    "- 왼쪽 서브트리, 오른쪽 서브트리 또한 이진탐색트리이다.\n"
   ]
  },
  {
   "cell_type": "markdown",
   "id": "e2c4c78e",
   "metadata": {},
   "source": [
    "---"
   ]
  },
  {
   "cell_type": "markdown",
   "id": "48b3f908",
   "metadata": {},
   "source": [
    "## Node 클래스 구현"
   ]
  },
  {
   "cell_type": "code",
   "execution_count": 1,
   "id": "8a99cca9",
   "metadata": {},
   "outputs": [],
   "source": [
    "class Node:\n",
    "    def __init__(self,value):\n",
    "        self.value=value\n",
    "        self.left=None\n",
    "        self.right=None"
   ]
  },
  {
   "cell_type": "markdown",
   "id": "85c5eb35",
   "metadata": {},
   "source": [
    "## 이진 탐색 트리 - 데이터 삽입"
   ]
  },
  {
   "cell_type": "code",
   "execution_count": 2,
   "id": "95d95f81",
   "metadata": {},
   "outputs": [],
   "source": [
    "class NodeMgmt:\n",
    "    def __init__(self,head):\n",
    "        self.head=head\n",
    "    \n",
    "    def insert(self,value):\n",
    "        self.current_node=self.head\n",
    "        while True:\n",
    "            if value<self.current_node.value:\n",
    "                if self.current_node.left!=None:\n",
    "                    self.current_node=self.current_node.left\n",
    "                else:\n",
    "                    self.current_node.left=Node(value)\n",
    "                    break\n",
    "            else:\n",
    "                if self.current_node.right!=None:\n",
    "                    self.current_node=self.current_node.right\n",
    "                else:\n",
    "                    self.current_node.right=Node(value)\n",
    "                    break"
   ]
  },
  {
   "cell_type": "code",
   "execution_count": 3,
   "id": "efcc2747",
   "metadata": {},
   "outputs": [],
   "source": [
    "head=Node(1)\n",
    "BST=NodeMgmt(head)\n",
    "BST.insert(2)"
   ]
  },
  {
   "cell_type": "markdown",
   "id": "21cfc14d",
   "metadata": {},
   "source": [
    "## 이진 탐색 트리 - 탐색"
   ]
  },
  {
   "cell_type": "code",
   "execution_count": 4,
   "id": "3ac245d6",
   "metadata": {},
   "outputs": [],
   "source": [
    "class NodeMgmt:\n",
    "    def __init__(self,head):\n",
    "        self.head=head\n",
    "    \n",
    "    def insert(self,value):\n",
    "        self.current_node=self.head\n",
    "        while True:\n",
    "            if value<self.current_node.value:\n",
    "                if self.current_node.left!=None:\n",
    "                    self.current_node=self.current_node.left\n",
    "                else:\n",
    "                    self.current_node.left=Node(value)\n",
    "                    break\n",
    "            else:\n",
    "                if self.current_node.right!=None:\n",
    "                    self.current_node=self.current_node.right\n",
    "                else:\n",
    "                    self.current_node.right=Node(value)\n",
    "                    break\n",
    "                    \n",
    "    def search(self,value):\n",
    "        self.current_node=self.head\n",
    "        while self.current_node:\n",
    "            if self.current_node.value==value:\n",
    "                return True\n",
    "            elif value<self.current_node.value:\n",
    "                self.current_node=self.current_node.left\n",
    "            else:\n",
    "                self.current_node=self.current_node.right\n",
    "        return False"
   ]
  },
  {
   "cell_type": "code",
   "execution_count": 5,
   "id": "977b1d46",
   "metadata": {},
   "outputs": [],
   "source": [
    "head=Node(1)\n",
    "BST=NodeMgmt(head)\n",
    "BST.insert(2)\n",
    "BST.insert(4)\n",
    "BST.insert(6)\n",
    "BST.insert(8)\n",
    "BST.insert(7)\n",
    "BST.insert(3)"
   ]
  },
  {
   "cell_type": "code",
   "execution_count": 6,
   "id": "b589d4f6",
   "metadata": {},
   "outputs": [
    {
     "data": {
      "text/plain": [
       "False"
      ]
     },
     "execution_count": 6,
     "metadata": {},
     "output_type": "execute_result"
    }
   ],
   "source": [
    "BST.search(5)"
   ]
  },
  {
   "cell_type": "markdown",
   "id": "1861249a",
   "metadata": {},
   "source": [
    "## 이진 탐색 트리 - 삭제"
   ]
  },
  {
   "cell_type": "markdown",
   "id": "ba6c2157",
   "metadata": {},
   "source": [
    "### 1. Leaf Node 삭제\n",
    "- 삭제할 Node의 Parent Node가 삭제할 Node를 가리키지 않도록 한다.\n"
   ]
  },
  {
   "cell_type": "markdown",
   "id": "086c2ac5",
   "metadata": {},
   "source": [
    "### 2. Child Node가 하나인 Node 삭제\n",
    "- 삭제할 Node의 Parent Node가 삭제할 Node의 Child Node를 가리키도록 한다."
   ]
  },
  {
   "cell_type": "markdown",
   "id": "e2304a13",
   "metadata": {},
   "source": [
    "### 3. Child Node가 두 개인 Node 삭제\n",
    "1. 삭제할 Node의 **오른쪽 자식 중, 가장 작은 값** 을 삭제할 Node의 자리로 올린다.</br>\n",
    "    - 오른쪽 Node의 가장 왼쪽 Node를 선택해서 삭제할 Node의 자리로 올린다.\n",
    "    \n",
    "    \n",
    "2. 삭제할 Node의 **왼쪽 자식 중, 가장 큰 값** 을 삭제할 Node의 자리로 올린다.</br>\n",
    "    - 왼쪽 Node의 가장 오른쪽 Node를 선택해서 삭제할 Node의 자리로 올린다.\n",
    "\n",
    "\n",
    "둘 중 어떤 방법을 사용해도 상관 없음."
   ]
  },
  {
   "cell_type": "markdown",
   "id": "0e76e6e9",
   "metadata": {},
   "source": [
    "---"
   ]
  },
  {
   "cell_type": "markdown",
   "id": "7ee5cde6",
   "metadata": {},
   "source": [
    "## 삭제 코드 구현"
   ]
  },
  {
   "cell_type": "code",
   "execution_count": null,
   "id": "d619b18a",
   "metadata": {},
   "outputs": [],
   "source": [
    "def delete(self,value):\n",
    "    searched=False\n",
    "    self.current_node=self.head\n",
    "    self.parent=self.head\n",
    "    \n",
    "    while self.current_node:\n",
    "        if self.current_node.value==value:\n",
    "            searched=True\n",
    "            break\n",
    "        elif value<self.current_node.value:\n",
    "            self.parent=self.current_node\n",
    "            self.current_node=self.current_node.left\n",
    "        else:\n",
    "            self.parent=self.current_node\n",
    "            self.current_node=self.current_node.right\n",
    "\n",
    "    if searched==False:\n",
    "        return False"
   ]
  },
  {
   "cell_type": "markdown",
   "id": "bd5b966b",
   "metadata": {},
   "source": [
    "### Case1: Leaf Node 삭제"
   ]
  },
  {
   "cell_type": "code",
   "execution_count": null,
   "id": "ebfb8168",
   "metadata": {},
   "outputs": [],
   "source": [
    "    if self.current_node.left==None and self.current_node.right==None:\n",
    "        if value<self.parent.value:\n",
    "            self.parent.left=None\n",
    "        else:\n",
    "            self.parent.right=None\n",
    "        del self.current_node\n",
    "            "
   ]
  },
  {
   "cell_type": "markdown",
   "id": "1249d495",
   "metadata": {},
   "source": [
    "### Case2: Child Node가 하나인 Node 삭제"
   ]
  },
  {
   "cell_type": "code",
   "execution_count": null,
   "id": "0b151e21",
   "metadata": {},
   "outputs": [],
   "source": [
    "    # 왼쪽에 자식 노드가 있는 경우\n",
    "    if self.current_node.left!=None and self.current_node.right==None:\n",
    "        if value<self.parent.value:\n",
    "            self.parent.left=self.current_node.left\n",
    "        else:\n",
    "            self.parent.right=self.current_node.left\n",
    "    # 오른쪽에 자식 노드가 있는 경우\n",
    "    elif self.current_node.left==None and self.current_node.right!=None:\n",
    "        if value<self.parent.value:\n",
    "            self.parent.left=self.current_node.right\n",
    "        else:\n",
    "            self.parent.right=self.current_node.right\n",
    "        "
   ]
  },
  {
   "cell_type": "markdown",
   "id": "12c830fd",
   "metadata": {},
   "source": [
    "### Case3: Child Node가 두 개인 Node 삭제\n",
    "삭제할 Node의 **오른쪽 자식 중, 가장 작은 값** 을 삭제할 Node의 자리로 올린다.</br>\n",
    "위와 같은 방법으로 구현.\n",
    "### Case3-1. 삭제할 Node가 Parent Node 왼쪽에 있을 경우\n",
    "- **Case3-1-1:** 삭제할 Node가 Parent Node의 왼쪽에 있고, 삭제할 Node의 오른쪽 자식 중 가장 작은 값을 가진 Node의 Child Node가 없을 때\n",
    "- **Case3-1-2:** 삭제할 Node가 Parent Node의 왼쪽에 있고, 삭제할 Node의 오른쪽 자식 중 가장 작은 값을 가진 Node의 오른쪽에 Child Node가 있을 때\n",
    "\n",
    "<img src=\"http://www.fun-coding.org/00_Images/tree_remove_2child_code_left.png\" width=\"500\" /> </br>\n",
    "(출처:fun-conding, https://www.fun-coding.org/Chapter10-bst.html)\n"
   ]
  },
  {
   "cell_type": "code",
   "execution_count": null,
   "id": "d67ac871",
   "metadata": {},
   "outputs": [],
   "source": [
    "    if self.current_node.left!=None and self.current_node.right!=None:\n",
    "        # 3-1\n",
    "        if value<self.parent.value: \n",
    "            # 초기화\n",
    "            self.change_node=self.current_node.right\n",
    "            self.change_node_parent=self.current_node.right\n",
    "            \n",
    "            while self.change_node.left!=None:\n",
    "                self.change_node_parent=self.change_node\n",
    "                self.change_node=self.change_node.left\n",
    "            # 3-1-2    \n",
    "            if self.change_node.right!=None: \n",
    "                self.change_node_parent.left=self.change_node.right\n",
    "            # 3-1-1\n",
    "            else: \n",
    "                self.change_node_parent.left=None\n",
    "            self.parent.left=self.change_node\n",
    "            self.change_node.right=self.current_node.right\n",
    "            self.change_node.left=self.current_node.left"
   ]
  },
  {
   "cell_type": "markdown",
   "id": "08dd45ff",
   "metadata": {},
   "source": [
    "### Case 3-2. 삭제할 Node가 Parent Node 오른쪽에 있을 경우\n",
    "- **Case3-2-1:** 삭제할 Node가 Parent Node 오른쪽에 있고, 삭제할 Node의 오른쪽 자식 중 가장 작은 값을 가진 Node의 Child Node가 없을 때\n",
    "- **Case3-2-2:** 삭제할 Node가 Parent Node의 오른쪽에 있고, 삭제할 Node의 오른쪽 자식 중 가장 작은 값을 가진 Node의 오른쪽에 Child Node가 있을 때\n",
    "\n",
    "<img src=\"http://www.fun-coding.org/00_Images/tree_remove_2child_code_right.png\" width=\"500\" />\n",
    "(출처:fun-coding,https://www.fun-coding.org/Chapter10-bst.html)"
   ]
  },
  {
   "cell_type": "code",
   "execution_count": null,
   "id": "81c5e8dc",
   "metadata": {},
   "outputs": [],
   "source": [
    "    else:\n",
    "        self.change_node=self.current_node.right\n",
    "        self.change_node_parent=self.current_node.right\n",
    "        \n",
    "        while self.change_node.left!=None:\n",
    "            self.change_node_parent=self.change_node\n",
    "            self.change_node=self.change_node.left\n",
    "        if self.change_node.right!=None:\n",
    "            self.change_node_parent.left=self.change_node.right\n",
    "        else:\n",
    "            self.change_node_parent.left=None\n",
    "        self.parent.right=self.change_node\n",
    "        self.change_node.right=self.current_node.right\n",
    "        self.change_node.left=self.current_node.left"
   ]
  },
  {
   "cell_type": "markdown",
   "id": "dab9aa9a",
   "metadata": {},
   "source": [
    "## 파이썬 전체 코드 구현"
   ]
  },
  {
   "cell_type": "code",
   "execution_count": 7,
   "id": "19159e86",
   "metadata": {},
   "outputs": [],
   "source": [
    "class Node:\n",
    "    def __init__(self,value):\n",
    "        self.value=value\n",
    "        self.left=None\n",
    "        self.right=None\n",
    "\n",
    "class NodeMgmt:\n",
    "    def __init__(self,head):\n",
    "        self.head=head\n",
    "        \n",
    "    def insert(self,value):\n",
    "        self.current_node=self.head\n",
    "        while True:\n",
    "            if value<self.current_node.value:\n",
    "                if self.current_node.left!=None:\n",
    "                    self.current_node=self.current_node.left\n",
    "                else:\n",
    "                    self.current_node.left=Node(value)\n",
    "                    break\n",
    "            else:\n",
    "                if self.current_node.right!=None:\n",
    "                    self.current_node=self.current_node.right\n",
    "                else:\n",
    "                    self.current_node.right=Node(value)\n",
    "                    break\n",
    "    \n",
    "    def search(self,value):\n",
    "        self.current_node=self.head\n",
    "        while self.current_node:\n",
    "            if self.current_node.value==value:\n",
    "                return True\n",
    "            elif value<self.current_node.value:\n",
    "                self.current_node=self.current_node.left\n",
    "            else:\n",
    "                self.current_node=self.current_node.right\n",
    "        return False\n",
    "    \n",
    "    def delete(self,value):\n",
    "        searched=False\n",
    "        self.current_node=self.head\n",
    "        self.parent=self.head\n",
    "        while self.current_node:\n",
    "            if self.current_node.value==value:\n",
    "                searched=True\n",
    "                break\n",
    "            elif value<self.current_node.value:\n",
    "                self.parent=self.current_node\n",
    "                self.current_node=self.current_node.left\n",
    "            else:\n",
    "                self.parent=self.current_node\n",
    "                self.current_node=self.current_node.right\n",
    "        \n",
    "        if searched==False:\n",
    "            return False\n",
    "        \n",
    "        # Case1\n",
    "        if self.current_node.left==None and self.current_node.right==None:\n",
    "            if value<self.parent.value:\n",
    "                self.parent.left=None\n",
    "            else:\n",
    "                self.parent.right=None\n",
    "        \n",
    "        # Case2\n",
    "        elif self.current_node.left!=None and self.current_node.right==None:\n",
    "            if value<self.parent.value:\n",
    "                self.parent.left=self.current_node.left\n",
    "            else:\n",
    "                self.parent.right=self.current_node.left\n",
    "        elif self.current_node.left==None and self.current_node.right!=None:\n",
    "            if value<self.parent.value:\n",
    "                self.parent.left=self.current_node.right\n",
    "            else:\n",
    "                self.parent.right=self.current_node.right\n",
    "                \n",
    "        # Case3\n",
    "        elif self.current_node.left!=None and self.current_node.right!=None:\n",
    "            # Case3-1\n",
    "            if value<self.parent.value:\n",
    "                self.change_node=self.current_node.right\n",
    "                self.change_node_parent=self.change_node.right\n",
    "                \n",
    "                while self.change_node.left!=None:\n",
    "                    self.change_node_parent.left=self.change_node\n",
    "                    self.change_node=self.change_node.left\n",
    "                if self.change_node.right!=None:\n",
    "                    self.change_node_parent.left=self.change_node.right\n",
    "                else:\n",
    "                    self.change_node_parent.left=None\n",
    "                self.parent.left=self.change_node\n",
    "                self.change_node.right=self.current_node.right\n",
    "                self.change_node.left=self.current_node.left\n",
    "            # Case3-2\n",
    "            else:\n",
    "                self.change_node=self.current_node.right\n",
    "                self.change_node_parent=self.change_node.right\n",
    "                \n",
    "                while self.change_node.left!=None:\n",
    "                    self.change_node_parent=self.change_node\n",
    "                    self.change_node=self.change_node.left\n",
    "                if self.change_node.right!=None:\n",
    "                    self.change_node_parent.left=self.change_node.right\n",
    "                else:\n",
    "                    self.change_node_parent.left=None\n",
    "                self.parent.right=self.change_node\n",
    "                self.change_node.right=self.current_node.right\n",
    "                self.change_node.left=self.current_node.left\n",
    "\n",
    "        return True"
   ]
  },
  {
   "cell_type": "markdown",
   "id": "f4b5d1bc",
   "metadata": {},
   "source": [
    "## 파이썬 코드 테스트"
   ]
  },
  {
   "cell_type": "code",
   "execution_count": 8,
   "id": "0d4e8d25",
   "metadata": {},
   "outputs": [],
   "source": [
    "import random\n",
    "\n",
    "bst_nums=set()\n",
    "while len(bst_nums)!=100:\n",
    "    bst_nums.add(random.randint(0,999))\n",
    "\n",
    "# 100개의 숫자를 이진 탐색 트리에 입력\n",
    "head=Node(500)\n",
    "binary_tree=NodeMgmt(head)\n",
    "for num in bst_nums:\n",
    "    binary_tree.insert(num)\n",
    "    \n",
    "# 입력한 100개의 숫자 검색\n",
    "for num in bst_nums:\n",
    "    if binary_tree.search(num)==False:\n",
    "        print('search failed',num)\n",
    "\n",
    "# 10개의 숫자를 랜덤으로 선택\n",
    "delete_nums=set()\n",
    "bst_nums=list(bst_nums)\n",
    "while len(delete_nums)!=10:\n",
    "    delete_nums.add(bst_nums[random.randint(0,99)])\n",
    "\n",
    "# 선택한 10개의 숫자를 삭제\n",
    "for del_num in delete_nums:\n",
    "    if binary_tree.delete(del_num)==False:\n",
    "        print('delete failed',del_num)"
   ]
  }
 ],
 "metadata": {
  "kernelspec": {
   "display_name": "Python 3 (ipykernel)",
   "language": "python",
   "name": "python3"
  },
  "language_info": {
   "codemirror_mode": {
    "name": "ipython",
    "version": 3
   },
   "file_extension": ".py",
   "mimetype": "text/x-python",
   "name": "python",
   "nbconvert_exporter": "python",
   "pygments_lexer": "ipython3",
   "version": "3.7.0"
  }
 },
 "nbformat": 4,
 "nbformat_minor": 5
}
