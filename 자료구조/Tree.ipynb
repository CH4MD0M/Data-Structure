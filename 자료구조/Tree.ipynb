{
 "cells": [
  {
   "cell_type": "markdown",
   "id": "42bab625",
   "metadata": {},
   "source": [
    "# 트리(Tree)"
   ]
  },
  {
   "cell_type": "markdown",
   "id": "81e5e99b",
   "metadata": {},
   "source": [
    "## 알아둘 용어\n",
    "- **노드(Node):** 트리에서 데이터를 저장하는 기본 요소.\n",
    "- **루트 노드(Root Node):** 트리 최상위 노드.\n",
    "- **단말노드(Leaf Node):** Child Node가 없는 노드.\n",
    "- **부모 노드(Parent Node):** 어떤 노드의 상위 레벨에 연결된 노드.\n",
    "- **자식 노드(Child Node):** 어떤 노드의 다음 레벨에 연결된 노드.\n",
    "- **형제(Sibling):** 동일한 Parent Node를 가진 노드.\n",
    "- **노드의 레벨(Level):** 트리의 특정 깊이를 가지는 노드의 집합.\n",
    "- **노드의 깊이(Depth):** 루트에서 어떤 노드에 도달하기 위해 거쳐야 하는 간선의 수."
   ]
  },
  {
   "cell_type": "markdown",
   "id": "7d02b7d7",
   "metadata": {},
   "source": [
    "## 이진 트리와 이진 탐색 트리\n",
    "#### 이진 트리(Binary Tree)\n",
    "노드가 왼쪽 자식(Left Child)과 오른쪽 자식(Right Child)만을 갖는 트리를 **이진 트리(Binary Tree)** 라고 한다.\n",
    "#### 완전 이진 트리(Complete Binary Tree)\n",
    "루트부터 아래쪽 레벨로 노드가 가득 차 있고, 같은 레벨 안에서 왼쪽부터 오른쪼긍로 노드가 가득 채워져 있는 이진트리를 **완전 이진 트리(Complete Binary Tree)** 라고 하다.\n",
    "#### 이진 탐색 트리(Binary Search Tree, BST)\n",
    "이진탐색(binary search)과 연결리스트(linked list)를 결합한 자료구조의 일종이다.</br>\n",
    "이진탐색트리는 다음과 같은 속성을 갖는다.\n",
    "- 각 노드의 왼쪽 서브트리에는 해당 노드의 값보다 작은 값을 지닌 노드들로 이루어져 있다.\n",
    "- 각 노드의 오른쪽 서브트리에는 해당 노드의 값보다 큰 값을 지닌 노드들로 이루어져 있다.\n",
    "- 중복된 노드가 없어야 한다.\n",
    "- 왼쪽 서브트리, 오른쪽 서브트리 또한 이진탐색트리이다.\n"
   ]
  },
  {
   "cell_type": "markdown",
   "id": "fd4d0a36",
   "metadata": {},
   "source": [
    "## 이진 탐색 트리 구현"
   ]
  },
  {
   "cell_type": "markdown",
   "id": "48b3f908",
   "metadata": {},
   "source": [
    "### Node 클래스 구현"
   ]
  },
  {
   "cell_type": "code",
   "execution_count": 1,
   "id": "8a99cca9",
   "metadata": {},
   "outputs": [],
   "source": [
    "class Node:\n",
    "    def __init__(self,value):\n",
    "        self.value=value\n",
    "        self.left=None\n",
    "        self.right=None"
   ]
  },
  {
   "cell_type": "markdown",
   "id": "85c5eb35",
   "metadata": {},
   "source": [
    "### 이진 탐색 트리 - 데이터 삽입"
   ]
  },
  {
   "cell_type": "code",
   "execution_count": 2,
   "id": "95d95f81",
   "metadata": {},
   "outputs": [],
   "source": [
    "class NodeMgmt:\n",
    "    def __init__(self,head):\n",
    "        self.head=head\n",
    "    \n",
    "    def insert(self,value):\n",
    "        self.current_node=self.head\n",
    "        while True:\n",
    "            if value<self.current_node.value:\n",
    "                if self.current_node.left!=None:\n",
    "                    self.current_node=self.current_node.left\n",
    "                else:\n",
    "                    self.current_node.left=Node(value)\n",
    "                    break\n",
    "            else:\n",
    "                if self.current_node.right!=None:\n",
    "                    self.current_node=self.current_node.right\n",
    "                else:\n",
    "                    self.current_node.right=Node(value)\n",
    "                    break"
   ]
  },
  {
   "cell_type": "code",
   "execution_count": 3,
   "id": "efcc2747",
   "metadata": {},
   "outputs": [],
   "source": [
    "head=Node(1)\n",
    "BST=NodeMgmt(head)\n",
    "BST.insert(2)"
   ]
  },
  {
   "cell_type": "markdown",
   "id": "21cfc14d",
   "metadata": {},
   "source": [
    "### 이진 탐색 트리 - 탐색"
   ]
  },
  {
   "cell_type": "code",
   "execution_count": 4,
   "id": "3ac245d6",
   "metadata": {},
   "outputs": [],
   "source": [
    "class NodeMgmt:\n",
    "    def __init__(self,head):\n",
    "        self.head=head\n",
    "    \n",
    "    def insert(self,value):\n",
    "        self.current_node=self.head\n",
    "        while True:\n",
    "            if value<self.current_node.value:\n",
    "                if self.current_node.left!=None:\n",
    "                    self.current_node=self.current_node.left\n",
    "                else:\n",
    "                    self.current_node.left=Node(value)\n",
    "                    break\n",
    "            else:\n",
    "                if self.current_node.right!=None:\n",
    "                    self.current_node=self.current_node.right\n",
    "                else:\n",
    "                    self.current_node.right=Node(value)\n",
    "                    break\n",
    "                    \n",
    "    def search(self,value):\n",
    "        self.current_node=self.head\n",
    "        while self.current_node:\n",
    "            if self.current_node.value==value:\n",
    "                return True\n",
    "            elif value<self.current_node.value:\n",
    "                self.current_node=self.current_node.left\n",
    "            else:\n",
    "                self.current_node=self.current_node.right\n",
    "        return False"
   ]
  },
  {
   "cell_type": "code",
   "execution_count": 5,
   "id": "977b1d46",
   "metadata": {},
   "outputs": [],
   "source": [
    "head=Node(1)\n",
    "BST=NodeMgmt(head)\n",
    "BST.insert(2)\n",
    "BST.insert(4)\n",
    "BST.insert(6)\n",
    "BST.insert(8)\n",
    "BST.insert(7)\n",
    "BST.insert(3)"
   ]
  },
  {
   "cell_type": "code",
   "execution_count": 6,
   "id": "b589d4f6",
   "metadata": {},
   "outputs": [
    {
     "data": {
      "text/plain": [
       "False"
      ]
     },
     "execution_count": 6,
     "metadata": {},
     "output_type": "execute_result"
    }
   ],
   "source": [
    "BST.search(5)"
   ]
  }
 ],
 "metadata": {
  "kernelspec": {
   "display_name": "Python 3 (ipykernel)",
   "language": "python",
   "name": "python3"
  },
  "language_info": {
   "codemirror_mode": {
    "name": "ipython",
    "version": 3
   },
   "file_extension": ".py",
   "mimetype": "text/x-python",
   "name": "python",
   "nbconvert_exporter": "python",
   "pygments_lexer": "ipython3",
   "version": "3.7.0"
  }
 },
 "nbformat": 4,
 "nbformat_minor": 5
}
