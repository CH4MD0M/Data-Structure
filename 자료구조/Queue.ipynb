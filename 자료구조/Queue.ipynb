{
 "cells": [
  {
   "cell_type": "markdown",
   "id": "07e2f57d",
   "metadata": {},
   "source": [
    "# 큐(Queue)"
   ]
  },
  {
   "cell_type": "markdown",
   "id": "93a7cbb4",
   "metadata": {},
   "source": [
    "## 1. 큐 구조\n",
    "가장 먼저 넣은 데이터를 가장 먼저 꺼낼 수 있는 구조.</br>\n",
    "음식점에서 가장 먼저 줄을 선 사람이 제일 먼저 음식점에 입장하는 것과 동일.</br>\n",
    "FIFO(First-In, First-Out) 또는 LILO(Last-In, Last-Out) 방식으로 스택과 꺼내는 순서가 반대이다."
   ]
  },
  {
   "cell_type": "markdown",
   "id": "f2741113",
   "metadata": {},
   "source": [
    "---"
   ]
  },
  {
   "cell_type": "markdown",
   "id": "5497b434",
   "metadata": {},
   "source": [
    "## 2. 알아둘 용어\n",
    "### Enqueue\n",
    "큐에 데이터를 넣는 기능.\n",
    "### Dequeue\n",
    "큐에서 데이터를 꺼내는 기능."
   ]
  },
  {
   "cell_type": "markdown",
   "id": "f5225e15",
   "metadata": {},
   "source": [
    "## 3. queue 라이브러리 사용\n",
    "**queue 라이브러리에는 다양한 큐 구조로 Queue(), LifoQueue(), PriorityQueue() 제공**</br>\n",
    "\n",
    "프로그램을 작성할 때 프로그램에 따라 적합한 자료 구조를 사용\n",
    "- Queue(): 가장 일반적인 큐 자료 구조\n",
    "- LifoQueue(): 나중에 입력된 데이터가 먼저 출력되는 구조 (스택 구조라고 보면 됨)\n",
    "- PriorityQueue(): 데이터마다 우선순위를 넣어서, 우선순위가 높은 순으로 데이터 출력"
   ]
  },
  {
   "cell_type": "markdown",
   "id": "d90eee43",
   "metadata": {},
   "source": [
    "### Queue"
   ]
  },
  {
   "cell_type": "code",
   "execution_count": 1,
   "id": "4533d1c5",
   "metadata": {},
   "outputs": [],
   "source": [
    "import queue\n",
    "data_queue=queue.Queue()"
   ]
  },
  {
   "cell_type": "code",
   "execution_count": 2,
   "id": "32c1d7ba",
   "metadata": {},
   "outputs": [],
   "source": [
    "data_queue.put('123')\n",
    "data_queue.put(123)"
   ]
  },
  {
   "cell_type": "code",
   "execution_count": 3,
   "id": "a78fca84",
   "metadata": {},
   "outputs": [
    {
     "data": {
      "text/plain": [
       "2"
      ]
     },
     "execution_count": 3,
     "metadata": {},
     "output_type": "execute_result"
    }
   ],
   "source": [
    "data_queue.qsize()"
   ]
  },
  {
   "cell_type": "code",
   "execution_count": 4,
   "id": "01c541e2",
   "metadata": {},
   "outputs": [
    {
     "data": {
      "text/plain": [
       "'123'"
      ]
     },
     "execution_count": 4,
     "metadata": {},
     "output_type": "execute_result"
    }
   ],
   "source": [
    "data_queue.get()"
   ]
  },
  {
   "cell_type": "code",
   "execution_count": 5,
   "id": "724fa352",
   "metadata": {},
   "outputs": [
    {
     "data": {
      "text/plain": [
       "123"
      ]
     },
     "execution_count": 5,
     "metadata": {},
     "output_type": "execute_result"
    }
   ],
   "source": [
    "data_queue.get()"
   ]
  },
  {
   "cell_type": "code",
   "execution_count": 6,
   "id": "edbda3b6",
   "metadata": {
    "scrolled": true
   },
   "outputs": [
    {
     "data": {
      "text/plain": [
       "0"
      ]
     },
     "execution_count": 6,
     "metadata": {},
     "output_type": "execute_result"
    }
   ],
   "source": [
    "data_queue.qsize()"
   ]
  },
  {
   "cell_type": "markdown",
   "id": "5a02d878",
   "metadata": {},
   "source": [
    "### LifoQueue"
   ]
  },
  {
   "cell_type": "code",
   "execution_count": 7,
   "id": "7c19d1fc",
   "metadata": {},
   "outputs": [],
   "source": [
    "import queue\n",
    "data_queue=queue.LifoQueue()"
   ]
  },
  {
   "cell_type": "code",
   "execution_count": 8,
   "id": "005e222f",
   "metadata": {},
   "outputs": [],
   "source": [
    "data_queue.put('123')\n",
    "data_queue.put(123)"
   ]
  },
  {
   "cell_type": "code",
   "execution_count": 11,
   "id": "21b22fe5",
   "metadata": {},
   "outputs": [
    {
     "data": {
      "text/plain": [
       "2"
      ]
     },
     "execution_count": 11,
     "metadata": {},
     "output_type": "execute_result"
    }
   ],
   "source": [
    "data_queue.qsize()"
   ]
  },
  {
   "cell_type": "code",
   "execution_count": 12,
   "id": "771005ce",
   "metadata": {},
   "outputs": [
    {
     "data": {
      "text/plain": [
       "123"
      ]
     },
     "execution_count": 12,
     "metadata": {},
     "output_type": "execute_result"
    }
   ],
   "source": [
    "data_queue.get()"
   ]
  },
  {
   "cell_type": "code",
   "execution_count": 13,
   "id": "abed111f",
   "metadata": {},
   "outputs": [
    {
     "data": {
      "text/plain": [
       "'123'"
      ]
     },
     "execution_count": 13,
     "metadata": {},
     "output_type": "execute_result"
    }
   ],
   "source": [
    "data_queue.get()"
   ]
  },
  {
   "cell_type": "code",
   "execution_count": 15,
   "id": "6245a8ed",
   "metadata": {},
   "outputs": [
    {
     "data": {
      "text/plain": [
       "0"
      ]
     },
     "execution_count": 15,
     "metadata": {},
     "output_type": "execute_result"
    }
   ],
   "source": [
    "data_queue.qsize()"
   ]
  },
  {
   "cell_type": "markdown",
   "id": "6354d8a6",
   "metadata": {},
   "source": [
    "### Priority Queue\n",
    "queue.put((우선순위, 데이터)) 형태로 삽입.</br>\n",
    "우선순위가 **높은(숫자가 낮은) 데이터**가 먼저 출력된다."
   ]
  },
  {
   "cell_type": "code",
   "execution_count": 16,
   "id": "214804d1",
   "metadata": {},
   "outputs": [],
   "source": [
    "import queue\n",
    "data_queue=queue.PriorityQueue()"
   ]
  },
  {
   "cell_type": "code",
   "execution_count": 17,
   "id": "593a5ec5",
   "metadata": {},
   "outputs": [],
   "source": [
    "data_queue.put((10,123))\n",
    "data_queue.put((2,'abc'))\n",
    "data_queue.put((7,1))"
   ]
  },
  {
   "cell_type": "code",
   "execution_count": 18,
   "id": "e5a3aa0f",
   "metadata": {},
   "outputs": [
    {
     "data": {
      "text/plain": [
       "3"
      ]
     },
     "execution_count": 18,
     "metadata": {},
     "output_type": "execute_result"
    }
   ],
   "source": [
    "data_queue.qsize()"
   ]
  },
  {
   "cell_type": "code",
   "execution_count": 19,
   "id": "d6261e0e",
   "metadata": {},
   "outputs": [
    {
     "data": {
      "text/plain": [
       "(2, 'abc')"
      ]
     },
     "execution_count": 19,
     "metadata": {},
     "output_type": "execute_result"
    }
   ],
   "source": [
    "data_queue.get()"
   ]
  },
  {
   "cell_type": "code",
   "execution_count": 20,
   "id": "e206ad1f",
   "metadata": {},
   "outputs": [
    {
     "data": {
      "text/plain": [
       "(7, 1)"
      ]
     },
     "execution_count": 20,
     "metadata": {},
     "output_type": "execute_result"
    }
   ],
   "source": [
    "data_queue.get()"
   ]
  },
  {
   "cell_type": "code",
   "execution_count": 21,
   "id": "fac08570",
   "metadata": {},
   "outputs": [
    {
     "data": {
      "text/plain": [
       "(10, 123)"
      ]
     },
     "execution_count": 21,
     "metadata": {},
     "output_type": "execute_result"
    }
   ],
   "source": [
    "data_queue.get()"
   ]
  },
  {
   "cell_type": "code",
   "execution_count": 22,
   "id": "ab3e20e9",
   "metadata": {},
   "outputs": [
    {
     "data": {
      "text/plain": [
       "0"
      ]
     },
     "execution_count": 22,
     "metadata": {},
     "output_type": "execute_result"
    }
   ],
   "source": [
    "data_queue.qsize()"
   ]
  },
  {
   "cell_type": "markdown",
   "id": "50b5bad0",
   "metadata": {},
   "source": [
    "### 참고: 어디에 큐가 많이 쓰일까?\n",
    "멀티 태스킹을 위한 프로세스 스케쥴링 방식을 구현하기 위해 많이 사용된다.(운영체제)\n",
    "> 큐의 경우에는 장단점 보다는(특별히 언급되는 장단점이 없음)</br> 큐의 활용 예로 프로세스 스케쥴링 방식을 함께 이해해두는 것이 좋다."
   ]
  },
  {
   "cell_type": "markdown",
   "id": "3a50f2e1",
   "metadata": {},
   "source": [
    "## 4. 프로그래밍 연습"
   ]
  },
  {
   "cell_type": "markdown",
   "id": "1ffa52ab",
   "metadata": {},
   "source": [
    "<strong>연습1: 리스트 변수로 큐를 다루는 enqueue, dequeue 기능 구현해보기</strong>"
   ]
  },
  {
   "cell_type": "code",
   "execution_count": 23,
   "id": "e4f6c735",
   "metadata": {},
   "outputs": [],
   "source": [
    "queue_list=list()"
   ]
  },
  {
   "cell_type": "code",
   "execution_count": 24,
   "id": "97ba03a0",
   "metadata": {},
   "outputs": [],
   "source": [
    "def enqueue(data):\n",
    "    queue_list.append(data)\n",
    "\n",
    "def dequeue():\n",
    "    data=queue_list[0]\n",
    "    del queue_list[0]\n",
    "    return data"
   ]
  },
  {
   "cell_type": "code",
   "execution_count": 25,
   "id": "2691da43",
   "metadata": {},
   "outputs": [],
   "source": [
    "for i in range(10):\n",
    "    enqueue(i)"
   ]
  },
  {
   "cell_type": "code",
   "execution_count": 26,
   "id": "4b8119a7",
   "metadata": {},
   "outputs": [
    {
     "name": "stdout",
     "output_type": "stream",
     "text": [
      "10\n"
     ]
    }
   ],
   "source": [
    "print(len(queue_list))"
   ]
  },
  {
   "cell_type": "code",
   "execution_count": 27,
   "id": "3221abf6",
   "metadata": {},
   "outputs": [
    {
     "data": {
      "text/plain": [
       "0"
      ]
     },
     "execution_count": 27,
     "metadata": {},
     "output_type": "execute_result"
    }
   ],
   "source": [
    "dequeue()"
   ]
  },
  {
   "cell_type": "code",
   "execution_count": 28,
   "id": "ce3f9df9",
   "metadata": {},
   "outputs": [
    {
     "name": "stdout",
     "output_type": "stream",
     "text": [
      "9\n"
     ]
    }
   ],
   "source": [
    "print(len(queue_list))"
   ]
  },
  {
   "cell_type": "code",
   "execution_count": null,
   "id": "f9eee6c6",
   "metadata": {},
   "outputs": [],
   "source": []
  }
 ],
 "metadata": {
  "kernelspec": {
   "display_name": "Python 3 (ipykernel)",
   "language": "python",
   "name": "python3"
  },
  "language_info": {
   "codemirror_mode": {
    "name": "ipython",
    "version": 3
   },
   "file_extension": ".py",
   "mimetype": "text/x-python",
   "name": "python",
   "nbconvert_exporter": "python",
   "pygments_lexer": "ipython3",
   "version": "3.7.0"
  }
 },
 "nbformat": 4,
 "nbformat_minor": 5
}
